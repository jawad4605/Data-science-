{
 "cells": [
  {
   "cell_type": "code",
   "execution_count": 4,
   "id": "85130163-6071-4f76-822e-7965687eb96d",
   "metadata": {},
   "outputs": [
    {
     "name": "stdout",
     "output_type": "stream",
     "text": [
      "Hello world\n"
     ]
    }
   ],
   "source": [
    "print(\"Hello world\")"
   ]
  },
  {
   "cell_type": "markdown",
   "id": "d69958c2-fcc9-4d3a-ad3c-ee55a00060f8",
   "metadata": {
    "jp-MarkdownHeadingCollapsed": true
   },
   "source": [
    "### Data Types "
   ]
  },
  {
   "cell_type": "code",
   "execution_count": 5,
   "id": "a5daffc2-9179-43df-98df-eb899f66c35a",
   "metadata": {},
   "outputs": [],
   "source": [
    "#Integer\n",
    "x = 5\n",
    "y = -10"
   ]
  },
  {
   "cell_type": "code",
   "execution_count": 6,
   "id": "8145f119-c25a-4b1c-8823-d16cc1df0705",
   "metadata": {},
   "outputs": [],
   "source": [
    "#Float \n",
    "a = 1.5\n",
    "b = -0.5"
   ]
  },
  {
   "cell_type": "code",
   "execution_count": 8,
   "id": "163d1c14-06c4-450d-a3f2-32e9ae05c56e",
   "metadata": {},
   "outputs": [],
   "source": [
    "#String\n",
    "name = \"Alice\"\n",
    "greeting = \"Hello, World!\""
   ]
  },
  {
   "cell_type": "code",
   "execution_count": 9,
   "id": "be880acd-5df9-459c-aaa7-44498304d00f",
   "metadata": {},
   "outputs": [],
   "source": [
    "#Boolean\n",
    "# English\n",
    "is_active = True\n",
    "is_admin = False"
   ]
  },
  {
   "cell_type": "code",
   "execution_count": 11,
   "id": "2b444598-2330-49fe-8b87-e347bcb1ac7f",
   "metadata": {},
   "outputs": [],
   "source": [
    "# List:\n",
    "fruits = [\"apple\", \"banana\", \"cherry\"]\n"
   ]
  },
  {
   "cell_type": "code",
   "execution_count": 12,
   "id": "30c24ae0-9c88-44be-b22f-f4a58a7c1a34",
   "metadata": {},
   "outputs": [],
   "source": [
    "#Tuple\n",
    "coordinates = (10, 20)"
   ]
  },
  {
   "cell_type": "code",
   "execution_count": 14,
   "id": "ba534e7b-0079-4246-8eea-b6ac43bfe0ad",
   "metadata": {},
   "outputs": [],
   "source": [
    "#Dictionary\n",
    "person = {\"name\": \"Alice\", \"age\": 25}"
   ]
  },
  {
   "cell_type": "code",
   "execution_count": 15,
   "id": "ff2b1786-6671-4bec-9143-4f665bb87647",
   "metadata": {},
   "outputs": [
    {
     "name": "stdout",
     "output_type": "stream",
     "text": [
      "{'name': 'Alice', 'age': 25}\n"
     ]
    }
   ],
   "source": [
    "print(person)"
   ]
  },
  {
   "cell_type": "code",
   "execution_count": 16,
   "id": "ae175730-adf6-4484-8734-e2b639e8cd7b",
   "metadata": {},
   "outputs": [],
   "source": [
    "#Set\n",
    "unique_numbers = {1, 2, 3}"
   ]
  },
  {
   "cell_type": "markdown",
   "id": "a03de9ff-0951-4a80-8b68-50081b041af1",
   "metadata": {
    "jp-MarkdownHeadingCollapsed": true
   },
   "source": [
    "### Loop"
   ]
  },
  {
   "cell_type": "code",
   "execution_count": 17,
   "id": "3c1d82f0-9689-46f4-8843-3ed676542709",
   "metadata": {},
   "outputs": [
    {
     "name": "stdout",
     "output_type": "stream",
     "text": [
      "0\n",
      "1\n",
      "2\n",
      "3\n",
      "4\n"
     ]
    }
   ],
   "source": [
    "#For Loop\n",
    "for i in range(5):\n",
    "    print(i)"
   ]
  },
  {
   "cell_type": "code",
   "execution_count": 18,
   "id": "35db98bf-cc14-4bb0-b6dc-58de0583dd20",
   "metadata": {},
   "outputs": [
    {
     "name": "stdout",
     "output_type": "stream",
     "text": [
      "0\n",
      "1\n",
      "2\n",
      "3\n",
      "4\n"
     ]
    }
   ],
   "source": [
    "#While Loop\n",
    "i = 0\n",
    "while i < 5:\n",
    "    print(i)\n",
    "    i += 1"
   ]
  },
  {
   "cell_type": "markdown",
   "id": "c317d0c4-d9e3-4c62-be07-2a4fa3128d57",
   "metadata": {
    "jp-MarkdownHeadingCollapsed": true
   },
   "source": [
    "### Function"
   ]
  },
  {
   "cell_type": "code",
   "execution_count": 3,
   "id": "5f50c508-58d0-4e62-b79d-b9d0ea6b590a",
   "metadata": {},
   "outputs": [
    {
     "name": "stdout",
     "output_type": "stream",
     "text": [
      "Hello, Jawad\n"
     ]
    }
   ],
   "source": [
    "# English\n",
    "def greet(name):\n",
    "    return f\"Hello, {name}\"\n",
    "print(greet(\"Jawad\"))\n"
   ]
  },
  {
   "cell_type": "code",
   "execution_count": 5,
   "id": "d3ec7fe7-d187-4adf-bcfe-719524b1aff6",
   "metadata": {},
   "outputs": [
    {
     "name": "stdout",
     "output_type": "stream",
     "text": [
      "13 is odd\n"
     ]
    }
   ],
   "source": [
    "# English\n",
    "def is_even(number):\n",
    "    return number % 2 == 0\n",
    "\n",
    "number = 13\n",
    "if is_even(number):\n",
    "    print(f\"{number} is even\")\n",
    "else:\n",
    "    print(f\"{number} is odd\")"
   ]
  },
  {
   "cell_type": "markdown",
   "id": "8eed2d4c-cba9-4b9b-9396-ab19fc8546a9",
   "metadata": {
    "jp-MarkdownHeadingCollapsed": true
   },
   "source": [
    "### class"
   ]
  },
  {
   "cell_type": "code",
   "execution_count": 7,
   "id": "a622f48f-940b-4b62-a7f3-d649c93424dd",
   "metadata": {},
   "outputs": [
    {
     "name": "stdout",
     "output_type": "stream",
     "text": [
      "Hello, my name is jawad and I am 20 years old.\n"
     ]
    }
   ],
   "source": [
    "class Person:\n",
    "    def __init__(self, name, age):\n",
    "        self.name = name\n",
    "        self.age = age\n",
    "\n",
    "    def greet(self):\n",
    "        return f\"Hello, my name is {self.name} and I am {self.age} years old.\"\n",
    "\n",
    "person1 = Person(\"jawad\", 20)\n",
    "print(person1.greet())"
   ]
  },
  {
   "cell_type": "markdown",
   "id": "43d5689a-6e47-426c-9edd-468c1983cc4e",
   "metadata": {},
   "source": [
    "### pandas"
   ]
  },
  {
   "cell_type": "code",
   "execution_count": 33,
   "id": "db5d6018-52ff-4e14-83f4-310cb15cae10",
   "metadata": {},
   "outputs": [
    {
     "name": "stdout",
     "output_type": "stream",
     "text": [
      "Requirement already satisfied: pandas in d:\\users\\pc\\anaconda3\\lib\\site-packages (2.1.4)\n",
      "Requirement already satisfied: numpy<2,>=1.23.2 in d:\\users\\pc\\anaconda3\\lib\\site-packages (from pandas) (1.26.4)\n",
      "Requirement already satisfied: python-dateutil>=2.8.2 in d:\\users\\pc\\anaconda3\\lib\\site-packages (from pandas) (2.8.2)\n",
      "Requirement already satisfied: pytz>=2020.1 in d:\\users\\pc\\anaconda3\\lib\\site-packages (from pandas) (2023.3.post1)\n",
      "Requirement already satisfied: tzdata>=2022.1 in d:\\users\\pc\\anaconda3\\lib\\site-packages (from pandas) (2023.3)\n",
      "Requirement already satisfied: six>=1.5 in d:\\users\\pc\\anaconda3\\lib\\site-packages (from python-dateutil>=2.8.2->pandas) (1.16.0)\n"
     ]
    }
   ],
   "source": [
    "!pip install pandas"
   ]
  },
  {
   "cell_type": "code",
   "execution_count": 9,
   "id": "e1161884-317d-4622-bcd9-b65dececfdc9",
   "metadata": {},
   "outputs": [],
   "source": [
    "import pandas as pd"
   ]
  },
  {
   "cell_type": "code",
   "execution_count": 22,
   "id": "fb1f8fb0-a7a8-4e55-bab5-63c79cd0d459",
   "metadata": {},
   "outputs": [],
   "source": [
    "df=pd.read_csv('livestock.csv')"
   ]
  },
  {
   "cell_type": "code",
   "execution_count": 23,
   "id": "23453636-c879-4454-9247-f51e04a3eaa9",
   "metadata": {},
   "outputs": [
    {
     "data": {
      "text/html": [
       "<div>\n",
       "<style scoped>\n",
       "    .dataframe tbody tr th:only-of-type {\n",
       "        vertical-align: middle;\n",
       "    }\n",
       "\n",
       "    .dataframe tbody tr th {\n",
       "        vertical-align: top;\n",
       "    }\n",
       "\n",
       "    .dataframe thead th {\n",
       "        text-align: right;\n",
       "    }\n",
       "</style>\n",
       "<table border=\"1\" class=\"dataframe\">\n",
       "  <thead>\n",
       "    <tr style=\"text-align: right;\">\n",
       "      <th></th>\n",
       "      <th>STATISTIC Label</th>\n",
       "      <th>Year</th>\n",
       "      <th>Type of Animal</th>\n",
       "      <th>Region</th>\n",
       "      <th>UNIT</th>\n",
       "      <th>VALUE</th>\n",
       "    </tr>\n",
       "  </thead>\n",
       "  <tbody>\n",
       "    <tr>\n",
       "      <th>0</th>\n",
       "      <td>Number of Livestock in June</td>\n",
       "      <td>2015</td>\n",
       "      <td>Total cattle</td>\n",
       "      <td>State</td>\n",
       "      <td>000 Head</td>\n",
       "      <td>6963.5</td>\n",
       "    </tr>\n",
       "    <tr>\n",
       "      <th>1</th>\n",
       "      <td>Number of Livestock in June</td>\n",
       "      <td>2015</td>\n",
       "      <td>Total cattle</td>\n",
       "      <td>Northern and Western</td>\n",
       "      <td>000 Head</td>\n",
       "      <td>1723.9</td>\n",
       "    </tr>\n",
       "    <tr>\n",
       "      <th>2</th>\n",
       "      <td>Number of Livestock in June</td>\n",
       "      <td>2015</td>\n",
       "      <td>Total cattle</td>\n",
       "      <td>Border</td>\n",
       "      <td>000 Head</td>\n",
       "      <td>793.6</td>\n",
       "    </tr>\n",
       "    <tr>\n",
       "      <th>3</th>\n",
       "      <td>Number of Livestock in June</td>\n",
       "      <td>2015</td>\n",
       "      <td>Total cattle</td>\n",
       "      <td>West</td>\n",
       "      <td>000 Head</td>\n",
       "      <td>930.2</td>\n",
       "    </tr>\n",
       "    <tr>\n",
       "      <th>4</th>\n",
       "      <td>Number of Livestock in June</td>\n",
       "      <td>2015</td>\n",
       "      <td>Total cattle</td>\n",
       "      <td>Southern</td>\n",
       "      <td>000 Head</td>\n",
       "      <td>3750.1</td>\n",
       "    </tr>\n",
       "    <tr>\n",
       "      <th>...</th>\n",
       "      <td>...</td>\n",
       "      <td>...</td>\n",
       "      <td>...</td>\n",
       "      <td>...</td>\n",
       "      <td>...</td>\n",
       "      <td>...</td>\n",
       "    </tr>\n",
       "    <tr>\n",
       "      <th>3658</th>\n",
       "      <td>Number of Livestock in June</td>\n",
       "      <td>2023</td>\n",
       "      <td>Total farmed deer</td>\n",
       "      <td>South-East</td>\n",
       "      <td>000 Head</td>\n",
       "      <td>NaN</td>\n",
       "    </tr>\n",
       "    <tr>\n",
       "      <th>3659</th>\n",
       "      <td>Number of Livestock in June</td>\n",
       "      <td>2023</td>\n",
       "      <td>Total farmed deer</td>\n",
       "      <td>South-West</td>\n",
       "      <td>000 Head</td>\n",
       "      <td>NaN</td>\n",
       "    </tr>\n",
       "    <tr>\n",
       "      <th>3660</th>\n",
       "      <td>Number of Livestock in June</td>\n",
       "      <td>2023</td>\n",
       "      <td>Total farmed deer</td>\n",
       "      <td>Eastern and Midland</td>\n",
       "      <td>000 Head</td>\n",
       "      <td>NaN</td>\n",
       "    </tr>\n",
       "    <tr>\n",
       "      <th>3661</th>\n",
       "      <td>Number of Livestock in June</td>\n",
       "      <td>2023</td>\n",
       "      <td>Total farmed deer</td>\n",
       "      <td>Dublin and Mid-East</td>\n",
       "      <td>000 Head</td>\n",
       "      <td>NaN</td>\n",
       "    </tr>\n",
       "    <tr>\n",
       "      <th>3662</th>\n",
       "      <td>Number of Livestock in June</td>\n",
       "      <td>2023</td>\n",
       "      <td>Total farmed deer</td>\n",
       "      <td>Midland</td>\n",
       "      <td>000 Head</td>\n",
       "      <td>NaN</td>\n",
       "    </tr>\n",
       "  </tbody>\n",
       "</table>\n",
       "<p>3663 rows × 6 columns</p>\n",
       "</div>"
      ],
      "text/plain": [
       "                  STATISTIC Label  Year     Type of Animal  \\\n",
       "0     Number of Livestock in June  2015       Total cattle   \n",
       "1     Number of Livestock in June  2015       Total cattle   \n",
       "2     Number of Livestock in June  2015       Total cattle   \n",
       "3     Number of Livestock in June  2015       Total cattle   \n",
       "4     Number of Livestock in June  2015       Total cattle   \n",
       "...                           ...   ...                ...   \n",
       "3658  Number of Livestock in June  2023  Total farmed deer   \n",
       "3659  Number of Livestock in June  2023  Total farmed deer   \n",
       "3660  Number of Livestock in June  2023  Total farmed deer   \n",
       "3661  Number of Livestock in June  2023  Total farmed deer   \n",
       "3662  Number of Livestock in June  2023  Total farmed deer   \n",
       "\n",
       "                    Region      UNIT   VALUE  \n",
       "0                    State  000 Head  6963.5  \n",
       "1     Northern and Western  000 Head  1723.9  \n",
       "2                   Border  000 Head   793.6  \n",
       "3                     West  000 Head   930.2  \n",
       "4                 Southern  000 Head  3750.1  \n",
       "...                    ...       ...     ...  \n",
       "3658            South-East  000 Head     NaN  \n",
       "3659            South-West  000 Head     NaN  \n",
       "3660   Eastern and Midland  000 Head     NaN  \n",
       "3661   Dublin and Mid-East  000 Head     NaN  \n",
       "3662               Midland  000 Head     NaN  \n",
       "\n",
       "[3663 rows x 6 columns]"
      ]
     },
     "execution_count": 23,
     "metadata": {},
     "output_type": "execute_result"
    }
   ],
   "source": [
    "df"
   ]
  },
  {
   "cell_type": "code",
   "execution_count": 24,
   "id": "3ec45639-478e-4c11-8933-072e4e2371f3",
   "metadata": {},
   "outputs": [
    {
     "data": {
      "text/html": [
       "<div>\n",
       "<style scoped>\n",
       "    .dataframe tbody tr th:only-of-type {\n",
       "        vertical-align: middle;\n",
       "    }\n",
       "\n",
       "    .dataframe tbody tr th {\n",
       "        vertical-align: top;\n",
       "    }\n",
       "\n",
       "    .dataframe thead th {\n",
       "        text-align: right;\n",
       "    }\n",
       "</style>\n",
       "<table border=\"1\" class=\"dataframe\">\n",
       "  <thead>\n",
       "    <tr style=\"text-align: right;\">\n",
       "      <th></th>\n",
       "      <th>STATISTIC Label</th>\n",
       "      <th>Year</th>\n",
       "      <th>Type of Animal</th>\n",
       "      <th>Region</th>\n",
       "      <th>UNIT</th>\n",
       "      <th>VALUE</th>\n",
       "    </tr>\n",
       "  </thead>\n",
       "  <tbody>\n",
       "    <tr>\n",
       "      <th>0</th>\n",
       "      <td>Number of Livestock in June</td>\n",
       "      <td>2015</td>\n",
       "      <td>Total cattle</td>\n",
       "      <td>State</td>\n",
       "      <td>000 Head</td>\n",
       "      <td>6963.5</td>\n",
       "    </tr>\n",
       "    <tr>\n",
       "      <th>1</th>\n",
       "      <td>Number of Livestock in June</td>\n",
       "      <td>2015</td>\n",
       "      <td>Total cattle</td>\n",
       "      <td>Northern and Western</td>\n",
       "      <td>000 Head</td>\n",
       "      <td>1723.9</td>\n",
       "    </tr>\n",
       "    <tr>\n",
       "      <th>2</th>\n",
       "      <td>Number of Livestock in June</td>\n",
       "      <td>2015</td>\n",
       "      <td>Total cattle</td>\n",
       "      <td>Border</td>\n",
       "      <td>000 Head</td>\n",
       "      <td>793.6</td>\n",
       "    </tr>\n",
       "    <tr>\n",
       "      <th>3</th>\n",
       "      <td>Number of Livestock in June</td>\n",
       "      <td>2015</td>\n",
       "      <td>Total cattle</td>\n",
       "      <td>West</td>\n",
       "      <td>000 Head</td>\n",
       "      <td>930.2</td>\n",
       "    </tr>\n",
       "    <tr>\n",
       "      <th>4</th>\n",
       "      <td>Number of Livestock in June</td>\n",
       "      <td>2015</td>\n",
       "      <td>Total cattle</td>\n",
       "      <td>Southern</td>\n",
       "      <td>000 Head</td>\n",
       "      <td>3750.1</td>\n",
       "    </tr>\n",
       "  </tbody>\n",
       "</table>\n",
       "</div>"
      ],
      "text/plain": [
       "               STATISTIC Label  Year Type of Animal                Region  \\\n",
       "0  Number of Livestock in June  2015   Total cattle                 State   \n",
       "1  Number of Livestock in June  2015   Total cattle  Northern and Western   \n",
       "2  Number of Livestock in June  2015   Total cattle                Border   \n",
       "3  Number of Livestock in June  2015   Total cattle                  West   \n",
       "4  Number of Livestock in June  2015   Total cattle              Southern   \n",
       "\n",
       "       UNIT   VALUE  \n",
       "0  000 Head  6963.5  \n",
       "1  000 Head  1723.9  \n",
       "2  000 Head   793.6  \n",
       "3  000 Head   930.2  \n",
       "4  000 Head  3750.1  "
      ]
     },
     "execution_count": 24,
     "metadata": {},
     "output_type": "execute_result"
    }
   ],
   "source": [
    "df.head()"
   ]
  },
  {
   "cell_type": "code",
   "execution_count": 25,
   "id": "bdef7884-cc6c-42b5-a5fe-97a25f482ff2",
   "metadata": {},
   "outputs": [
    {
     "data": {
      "text/html": [
       "<div>\n",
       "<style scoped>\n",
       "    .dataframe tbody tr th:only-of-type {\n",
       "        vertical-align: middle;\n",
       "    }\n",
       "\n",
       "    .dataframe tbody tr th {\n",
       "        vertical-align: top;\n",
       "    }\n",
       "\n",
       "    .dataframe thead th {\n",
       "        text-align: right;\n",
       "    }\n",
       "</style>\n",
       "<table border=\"1\" class=\"dataframe\">\n",
       "  <thead>\n",
       "    <tr style=\"text-align: right;\">\n",
       "      <th></th>\n",
       "      <th>STATISTIC Label</th>\n",
       "      <th>Year</th>\n",
       "      <th>Type of Animal</th>\n",
       "      <th>Region</th>\n",
       "      <th>UNIT</th>\n",
       "      <th>VALUE</th>\n",
       "    </tr>\n",
       "  </thead>\n",
       "  <tbody>\n",
       "    <tr>\n",
       "      <th>3658</th>\n",
       "      <td>Number of Livestock in June</td>\n",
       "      <td>2023</td>\n",
       "      <td>Total farmed deer</td>\n",
       "      <td>South-East</td>\n",
       "      <td>000 Head</td>\n",
       "      <td>NaN</td>\n",
       "    </tr>\n",
       "    <tr>\n",
       "      <th>3659</th>\n",
       "      <td>Number of Livestock in June</td>\n",
       "      <td>2023</td>\n",
       "      <td>Total farmed deer</td>\n",
       "      <td>South-West</td>\n",
       "      <td>000 Head</td>\n",
       "      <td>NaN</td>\n",
       "    </tr>\n",
       "    <tr>\n",
       "      <th>3660</th>\n",
       "      <td>Number of Livestock in June</td>\n",
       "      <td>2023</td>\n",
       "      <td>Total farmed deer</td>\n",
       "      <td>Eastern and Midland</td>\n",
       "      <td>000 Head</td>\n",
       "      <td>NaN</td>\n",
       "    </tr>\n",
       "    <tr>\n",
       "      <th>3661</th>\n",
       "      <td>Number of Livestock in June</td>\n",
       "      <td>2023</td>\n",
       "      <td>Total farmed deer</td>\n",
       "      <td>Dublin and Mid-East</td>\n",
       "      <td>000 Head</td>\n",
       "      <td>NaN</td>\n",
       "    </tr>\n",
       "    <tr>\n",
       "      <th>3662</th>\n",
       "      <td>Number of Livestock in June</td>\n",
       "      <td>2023</td>\n",
       "      <td>Total farmed deer</td>\n",
       "      <td>Midland</td>\n",
       "      <td>000 Head</td>\n",
       "      <td>NaN</td>\n",
       "    </tr>\n",
       "  </tbody>\n",
       "</table>\n",
       "</div>"
      ],
      "text/plain": [
       "                  STATISTIC Label  Year     Type of Animal  \\\n",
       "3658  Number of Livestock in June  2023  Total farmed deer   \n",
       "3659  Number of Livestock in June  2023  Total farmed deer   \n",
       "3660  Number of Livestock in June  2023  Total farmed deer   \n",
       "3661  Number of Livestock in June  2023  Total farmed deer   \n",
       "3662  Number of Livestock in June  2023  Total farmed deer   \n",
       "\n",
       "                   Region      UNIT  VALUE  \n",
       "3658           South-East  000 Head    NaN  \n",
       "3659           South-West  000 Head    NaN  \n",
       "3660  Eastern and Midland  000 Head    NaN  \n",
       "3661  Dublin and Mid-East  000 Head    NaN  \n",
       "3662              Midland  000 Head    NaN  "
      ]
     },
     "execution_count": 25,
     "metadata": {},
     "output_type": "execute_result"
    }
   ],
   "source": [
    "df.tail()"
   ]
  },
  {
   "cell_type": "code",
   "execution_count": 26,
   "id": "d3710db1-4c36-4213-b660-463f22e1168e",
   "metadata": {},
   "outputs": [
    {
     "data": {
      "text/plain": [
       "(3663, 6)"
      ]
     },
     "execution_count": 26,
     "metadata": {},
     "output_type": "execute_result"
    }
   ],
   "source": [
    "df.shape"
   ]
  },
  {
   "cell_type": "code",
   "execution_count": 27,
   "id": "98a3c2b3-57a7-40f2-9b4b-a73c716b092e",
   "metadata": {},
   "outputs": [
    {
     "name": "stdout",
     "output_type": "stream",
     "text": [
      "<class 'pandas.core.frame.DataFrame'>\n",
      "RangeIndex: 3663 entries, 0 to 3662\n",
      "Data columns (total 6 columns):\n",
      " #   Column           Non-Null Count  Dtype  \n",
      "---  ------           --------------  -----  \n",
      " 0   STATISTIC Label  3663 non-null   object \n",
      " 1   Year             3663 non-null   int64  \n",
      " 2   Type of Animal   3663 non-null   object \n",
      " 3   Region           3663 non-null   object \n",
      " 4   UNIT             3663 non-null   object \n",
      " 5   VALUE            3278 non-null   float64\n",
      "dtypes: float64(1), int64(1), object(4)\n",
      "memory usage: 171.8+ KB\n"
     ]
    }
   ],
   "source": [
    "df.info()"
   ]
  },
  {
   "cell_type": "code",
   "execution_count": 28,
   "id": "f35e7029-1881-4f6c-a2d5-a8f78b4c8fac",
   "metadata": {},
   "outputs": [
    {
     "data": {
      "text/html": [
       "<div>\n",
       "<style scoped>\n",
       "    .dataframe tbody tr th:only-of-type {\n",
       "        vertical-align: middle;\n",
       "    }\n",
       "\n",
       "    .dataframe tbody tr th {\n",
       "        vertical-align: top;\n",
       "    }\n",
       "\n",
       "    .dataframe thead th {\n",
       "        text-align: right;\n",
       "    }\n",
       "</style>\n",
       "<table border=\"1\" class=\"dataframe\">\n",
       "  <thead>\n",
       "    <tr style=\"text-align: right;\">\n",
       "      <th></th>\n",
       "      <th>STATISTIC Label</th>\n",
       "      <th>Year</th>\n",
       "      <th>Type of Animal</th>\n",
       "      <th>Region</th>\n",
       "      <th>UNIT</th>\n",
       "      <th>VALUE</th>\n",
       "    </tr>\n",
       "  </thead>\n",
       "  <tbody>\n",
       "    <tr>\n",
       "      <th>0</th>\n",
       "      <td>False</td>\n",
       "      <td>False</td>\n",
       "      <td>False</td>\n",
       "      <td>False</td>\n",
       "      <td>False</td>\n",
       "      <td>False</td>\n",
       "    </tr>\n",
       "    <tr>\n",
       "      <th>1</th>\n",
       "      <td>False</td>\n",
       "      <td>False</td>\n",
       "      <td>False</td>\n",
       "      <td>False</td>\n",
       "      <td>False</td>\n",
       "      <td>False</td>\n",
       "    </tr>\n",
       "    <tr>\n",
       "      <th>2</th>\n",
       "      <td>False</td>\n",
       "      <td>False</td>\n",
       "      <td>False</td>\n",
       "      <td>False</td>\n",
       "      <td>False</td>\n",
       "      <td>False</td>\n",
       "    </tr>\n",
       "    <tr>\n",
       "      <th>3</th>\n",
       "      <td>False</td>\n",
       "      <td>False</td>\n",
       "      <td>False</td>\n",
       "      <td>False</td>\n",
       "      <td>False</td>\n",
       "      <td>False</td>\n",
       "    </tr>\n",
       "    <tr>\n",
       "      <th>4</th>\n",
       "      <td>False</td>\n",
       "      <td>False</td>\n",
       "      <td>False</td>\n",
       "      <td>False</td>\n",
       "      <td>False</td>\n",
       "      <td>False</td>\n",
       "    </tr>\n",
       "    <tr>\n",
       "      <th>...</th>\n",
       "      <td>...</td>\n",
       "      <td>...</td>\n",
       "      <td>...</td>\n",
       "      <td>...</td>\n",
       "      <td>...</td>\n",
       "      <td>...</td>\n",
       "    </tr>\n",
       "    <tr>\n",
       "      <th>3658</th>\n",
       "      <td>False</td>\n",
       "      <td>False</td>\n",
       "      <td>False</td>\n",
       "      <td>False</td>\n",
       "      <td>False</td>\n",
       "      <td>True</td>\n",
       "    </tr>\n",
       "    <tr>\n",
       "      <th>3659</th>\n",
       "      <td>False</td>\n",
       "      <td>False</td>\n",
       "      <td>False</td>\n",
       "      <td>False</td>\n",
       "      <td>False</td>\n",
       "      <td>True</td>\n",
       "    </tr>\n",
       "    <tr>\n",
       "      <th>3660</th>\n",
       "      <td>False</td>\n",
       "      <td>False</td>\n",
       "      <td>False</td>\n",
       "      <td>False</td>\n",
       "      <td>False</td>\n",
       "      <td>True</td>\n",
       "    </tr>\n",
       "    <tr>\n",
       "      <th>3661</th>\n",
       "      <td>False</td>\n",
       "      <td>False</td>\n",
       "      <td>False</td>\n",
       "      <td>False</td>\n",
       "      <td>False</td>\n",
       "      <td>True</td>\n",
       "    </tr>\n",
       "    <tr>\n",
       "      <th>3662</th>\n",
       "      <td>False</td>\n",
       "      <td>False</td>\n",
       "      <td>False</td>\n",
       "      <td>False</td>\n",
       "      <td>False</td>\n",
       "      <td>True</td>\n",
       "    </tr>\n",
       "  </tbody>\n",
       "</table>\n",
       "<p>3663 rows × 6 columns</p>\n",
       "</div>"
      ],
      "text/plain": [
       "      STATISTIC Label   Year  Type of Animal  Region   UNIT  VALUE\n",
       "0               False  False           False   False  False  False\n",
       "1               False  False           False   False  False  False\n",
       "2               False  False           False   False  False  False\n",
       "3               False  False           False   False  False  False\n",
       "4               False  False           False   False  False  False\n",
       "...               ...    ...             ...     ...    ...    ...\n",
       "3658            False  False           False   False  False   True\n",
       "3659            False  False           False   False  False   True\n",
       "3660            False  False           False   False  False   True\n",
       "3661            False  False           False   False  False   True\n",
       "3662            False  False           False   False  False   True\n",
       "\n",
       "[3663 rows x 6 columns]"
      ]
     },
     "execution_count": 28,
     "metadata": {},
     "output_type": "execute_result"
    }
   ],
   "source": [
    "df.isnull()"
   ]
  },
  {
   "cell_type": "code",
   "execution_count": 30,
   "id": "78043dee-7c20-4f62-ad8f-75232477c0b6",
   "metadata": {},
   "outputs": [
    {
     "data": {
      "text/plain": [
       "STATISTIC Label      0\n",
       "Year                 0\n",
       "Type of Animal       0\n",
       "Region               0\n",
       "UNIT                 0\n",
       "VALUE              385\n",
       "dtype: int64"
      ]
     },
     "execution_count": 30,
     "metadata": {},
     "output_type": "execute_result"
    }
   ],
   "source": [
    "df.isnull().sum()"
   ]
  },
  {
   "cell_type": "code",
   "execution_count": null,
   "id": "4d0b528f-f2e0-4bcc-811a-cc232fa07b6f",
   "metadata": {},
   "outputs": [],
   "source": []
  }
 ],
 "metadata": {
  "kernelspec": {
   "display_name": "Python 3 (ipykernel)",
   "language": "python",
   "name": "python3"
  },
  "language_info": {
   "codemirror_mode": {
    "name": "ipython",
    "version": 3
   },
   "file_extension": ".py",
   "mimetype": "text/x-python",
   "name": "python",
   "nbconvert_exporter": "python",
   "pygments_lexer": "ipython3",
   "version": "3.11.7"
  }
 },
 "nbformat": 4,
 "nbformat_minor": 5
}
