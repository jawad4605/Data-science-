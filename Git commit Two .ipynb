{
 "cells": [
  {
   "cell_type": "markdown",
   "id": "10e3f738-8ac1-4288-89d5-17abf54abe2c",
   "metadata": {},
   "source": [
    "## import important libraries "
   ]
  },
  {
   "cell_type": "code",
   "execution_count": 4,
   "id": "0952283b-a3a7-449a-b101-e2dc20b6f765",
   "metadata": {},
   "outputs": [],
   "source": [
    "import warnings\n",
    "# Ignore the warning\n",
    "warnings.filterwarnings(\"ignore\", message=\"The least populated class in y has only 1 members\")"
   ]
  },
  {
   "cell_type": "code",
   "execution_count": 5,
   "id": "d0888c99-4262-47c8-84a3-d612842a8c1d",
   "metadata": {},
   "outputs": [],
   "source": [
    "import pandas as pd\n",
    "import matplotlib.pyplot as plt\n",
    "import seaborn as sns\n",
    "import numpy as np\n",
    "from scipy.stats import binom, poisson, norm\n",
    "\n",
    "# Load the dataset\n",
    "df = pd.read_csv(\"Accommodation.csv\")"
   ]
  },
  {
   "cell_type": "code",
   "execution_count": 6,
   "id": "ca6b753a-2186-4042-8124-9bb160093d3a",
   "metadata": {},
   "outputs": [
    {
     "name": "stdout",
     "output_type": "stream",
     "text": [
      "First few rows of the dataset:\n"
     ]
    },
    {
     "data": {
      "text/html": [
       "<div>\n",
       "<style scoped>\n",
       "    .dataframe tbody tr th:only-of-type {\n",
       "        vertical-align: middle;\n",
       "    }\n",
       "\n",
       "    .dataframe tbody tr th {\n",
       "        vertical-align: top;\n",
       "    }\n",
       "\n",
       "    .dataframe thead th {\n",
       "        text-align: right;\n",
       "    }\n",
       "</style>\n",
       "<table border=\"1\" class=\"dataframe\">\n",
       "  <thead>\n",
       "    <tr style=\"text-align: right;\">\n",
       "      <th></th>\n",
       "      <th>Name</th>\n",
       "      <th>Url</th>\n",
       "      <th>Telephone</th>\n",
       "      <th>Longitude</th>\n",
       "      <th>Latitude</th>\n",
       "      <th>AddressRegion</th>\n",
       "      <th>AddressLocality</th>\n",
       "      <th>AddressCountry</th>\n",
       "      <th>Tags</th>\n",
       "    </tr>\n",
       "  </thead>\n",
       "  <tbody>\n",
       "    <tr>\n",
       "      <th>0</th>\n",
       "      <td>Hideaway Camping and Caravan Park</td>\n",
       "      <td>NaN</td>\n",
       "      <td>+353(0)2822254</td>\n",
       "      <td>-9.260331</td>\n",
       "      <td>51.541699</td>\n",
       "      <td>Cork</td>\n",
       "      <td>Skibbereen</td>\n",
       "      <td>Republic of Ireland</td>\n",
       "      <td>Camping</td>\n",
       "    </tr>\n",
       "    <tr>\n",
       "      <th>1</th>\n",
       "      <td>Clonvilla</td>\n",
       "      <td>NaN</td>\n",
       "      <td>+353(0)2498288</td>\n",
       "      <td>-7.924324</td>\n",
       "      <td>51.910660</td>\n",
       "      <td>Cork</td>\n",
       "      <td>Youghal</td>\n",
       "      <td>Republic of Ireland</td>\n",
       "      <td>Camping</td>\n",
       "    </tr>\n",
       "    <tr>\n",
       "      <th>2</th>\n",
       "      <td>Rosses Point Caravan Park (Greenlands)</td>\n",
       "      <td>http://www.sligocaravanandcamping.ie</td>\n",
       "      <td>+353(0)719177113</td>\n",
       "      <td>-8.569483</td>\n",
       "      <td>54.306976</td>\n",
       "      <td>Sligo</td>\n",
       "      <td>Rosses Point</td>\n",
       "      <td>Republic of Ireland</td>\n",
       "      <td>Camping</td>\n",
       "    </tr>\n",
       "    <tr>\n",
       "      <th>3</th>\n",
       "      <td>Strandhill Caravan and Camping Park</td>\n",
       "      <td>http://www.sligocaravanandcamping.ie</td>\n",
       "      <td>+353(0)719168111</td>\n",
       "      <td>-8.605472</td>\n",
       "      <td>54.271988</td>\n",
       "      <td>Sligo</td>\n",
       "      <td>Airport Road</td>\n",
       "      <td>Republic of Ireland</td>\n",
       "      <td>Camping</td>\n",
       "    </tr>\n",
       "    <tr>\n",
       "      <th>4</th>\n",
       "      <td>Flemings White Bridge Caravan and Camping</td>\n",
       "      <td>http://www.killarneycamping.com</td>\n",
       "      <td>+353(0)646631590</td>\n",
       "      <td>-9.475904</td>\n",
       "      <td>52.057113</td>\n",
       "      <td>Kerry</td>\n",
       "      <td>Killarney</td>\n",
       "      <td>Republic of Ireland</td>\n",
       "      <td>Camping</td>\n",
       "    </tr>\n",
       "  </tbody>\n",
       "</table>\n",
       "</div>"
      ],
      "text/plain": [
       "                                        Name  \\\n",
       "0          Hideaway Camping and Caravan Park   \n",
       "1                                  Clonvilla   \n",
       "2     Rosses Point Caravan Park (Greenlands)   \n",
       "3        Strandhill Caravan and Camping Park   \n",
       "4  Flemings White Bridge Caravan and Camping   \n",
       "\n",
       "                                    Url         Telephone  Longitude  \\\n",
       "0                                   NaN    +353(0)2822254  -9.260331   \n",
       "1                                   NaN    +353(0)2498288  -7.924324   \n",
       "2  http://www.sligocaravanandcamping.ie  +353(0)719177113  -8.569483   \n",
       "3  http://www.sligocaravanandcamping.ie  +353(0)719168111  -8.605472   \n",
       "4       http://www.killarneycamping.com  +353(0)646631590  -9.475904   \n",
       "\n",
       "    Latitude AddressRegion AddressLocality       AddressCountry     Tags  \n",
       "0  51.541699          Cork      Skibbereen  Republic of Ireland  Camping  \n",
       "1  51.910660          Cork         Youghal  Republic of Ireland  Camping  \n",
       "2  54.306976         Sligo    Rosses Point  Republic of Ireland  Camping  \n",
       "3  54.271988         Sligo    Airport Road  Republic of Ireland  Camping  \n",
       "4  52.057113         Kerry       Killarney  Republic of Ireland  Camping  "
      ]
     },
     "execution_count": 6,
     "metadata": {},
     "output_type": "execute_result"
    }
   ],
   "source": [
    "# Display the first few rows of the dataset\n",
    "print(\"First few rows of the dataset:\")\n",
    "df.head()"
   ]
  },
  {
   "cell_type": "markdown",
   "id": "a0a62633-8f5a-40a3-a4da-f11478b9ea3a",
   "metadata": {},
   "source": [
    "## Step 1: Statistics"
   ]
  },
  {
   "cell_type": "code",
   "execution_count": 7,
   "id": "17196b2c-f7b2-4b3a-a76d-1cfec7a5bf9a",
   "metadata": {},
   "outputs": [
    {
     "name": "stdout",
     "output_type": "stream",
     "text": [
      "\n",
      "Descriptive statistics for numerical columns:\n"
     ]
    },
    {
     "data": {
      "text/html": [
       "<div>\n",
       "<style scoped>\n",
       "    .dataframe tbody tr th:only-of-type {\n",
       "        vertical-align: middle;\n",
       "    }\n",
       "\n",
       "    .dataframe tbody tr th {\n",
       "        vertical-align: top;\n",
       "    }\n",
       "\n",
       "    .dataframe thead th {\n",
       "        text-align: right;\n",
       "    }\n",
       "</style>\n",
       "<table border=\"1\" class=\"dataframe\">\n",
       "  <thead>\n",
       "    <tr style=\"text-align: right;\">\n",
       "      <th></th>\n",
       "      <th>Longitude</th>\n",
       "      <th>Latitude</th>\n",
       "    </tr>\n",
       "  </thead>\n",
       "  <tbody>\n",
       "    <tr>\n",
       "      <th>count</th>\n",
       "      <td>2339.000000</td>\n",
       "      <td>2339.000000</td>\n",
       "    </tr>\n",
       "    <tr>\n",
       "      <th>mean</th>\n",
       "      <td>-8.208845</td>\n",
       "      <td>53.069696</td>\n",
       "    </tr>\n",
       "    <tr>\n",
       "      <th>std</th>\n",
       "      <td>1.283439</td>\n",
       "      <td>0.905482</td>\n",
       "    </tr>\n",
       "    <tr>\n",
       "      <th>min</th>\n",
       "      <td>-10.514531</td>\n",
       "      <td>51.479594</td>\n",
       "    </tr>\n",
       "    <tr>\n",
       "      <th>25%</th>\n",
       "      <td>-9.374312</td>\n",
       "      <td>52.261228</td>\n",
       "    </tr>\n",
       "    <tr>\n",
       "      <th>50%</th>\n",
       "      <td>-8.436704</td>\n",
       "      <td>53.122920</td>\n",
       "    </tr>\n",
       "    <tr>\n",
       "      <th>75%</th>\n",
       "      <td>-7.023236</td>\n",
       "      <td>53.594261</td>\n",
       "    </tr>\n",
       "    <tr>\n",
       "      <th>max</th>\n",
       "      <td>-5.998080</td>\n",
       "      <td>55.361922</td>\n",
       "    </tr>\n",
       "  </tbody>\n",
       "</table>\n",
       "</div>"
      ],
      "text/plain": [
       "         Longitude     Latitude\n",
       "count  2339.000000  2339.000000\n",
       "mean     -8.208845    53.069696\n",
       "std       1.283439     0.905482\n",
       "min     -10.514531    51.479594\n",
       "25%      -9.374312    52.261228\n",
       "50%      -8.436704    53.122920\n",
       "75%      -7.023236    53.594261\n",
       "max      -5.998080    55.361922"
      ]
     },
     "execution_count": 7,
     "metadata": {},
     "output_type": "execute_result"
    }
   ],
   "source": [
    "# Descriptive statistics for numerical columns\n",
    "print(\"\\nDescriptive statistics for numerical columns:\")\n",
    "df.describe()"
   ]
  },
  {
   "cell_type": "markdown",
   "id": "5e785fe7-7c21-4842-9311-33332600f718",
   "metadata": {},
   "source": [
    "## Preprocessing of Dataset "
   ]
  },
  {
   "cell_type": "code",
   "execution_count": null,
   "id": "d0311ef3-cb33-49d2-afc6-c8d363b85718",
   "metadata": {},
   "outputs": [],
   "source": []
  }
 ],
 "metadata": {
  "kernelspec": {
   "display_name": "Python 3 (ipykernel)",
   "language": "python",
   "name": "python3"
  },
  "language_info": {
   "codemirror_mode": {
    "name": "ipython",
    "version": 3
   },
   "file_extension": ".py",
   "mimetype": "text/x-python",
   "name": "python",
   "nbconvert_exporter": "python",
   "pygments_lexer": "ipython3",
   "version": "3.11.7"
  }
 },
 "nbformat": 4,
 "nbformat_minor": 5
}
