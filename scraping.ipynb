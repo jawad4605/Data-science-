{
 "cells": [
  {
   "cell_type": "code",
   "execution_count": 25,
   "id": "1eab934e-0997-4bae-9445-3fc3e3025aec",
   "metadata": {},
   "outputs": [
    {
     "name": "stdout",
     "output_type": "stream",
     "text": [
      "Scraped 72 products from https://www.asos.com/women/holiday/holiday-dresses/cat/?cid=51513 and saved to asos_output.csv\n"
     ]
    }
   ],
   "source": [
    "import requests\n",
    "from bs4 import BeautifulSoup\n",
    "import pandas as pd\n",
    "import time  # For time delay between requests\n",
    "\n",
    "def scrape_store(url):\n",
    "    headers = {\n",
    "        \"User-Agent\": \"Mozilla/5.0 (Windows NT 10.0; Win64; x64) AppleWebKit/537.36 (KHTML, like Gecko) Chrome/91.0.4472.124 Safari/537.36\"\n",
    "    }\n",
    "    \n",
    "    response = requests.get(url, headers=headers)\n",
    "    \n",
    "    if response.status_code != 200:\n",
    "        print(f\"Failed to retrieve the webpage. Status code: {response.status_code}\")\n",
    "        return None\n",
    "    \n",
    "    soup = BeautifulSoup(response.content, 'html.parser')\n",
    "    \n",
    "    # Initialize an empty list to store all products\n",
    "    all_products = []\n",
    "    \n",
    "    # Extract products from the initial page\n",
    "    products = soup.select('.productLink_KM4PI')  # Selector for product container\n",
    "    all_products.extend(products)\n",
    "    \n",
    "    # Check if there's pagination and loop through additional pages if available\n",
    "    next_page = soup.select_one('.pagination-next a')\n",
    "    \n",
    "    while next_page:\n",
    "        next_url = 'https://www.asos.com' + next_page['href']\n",
    "        response = requests.get(next_url, headers=headers)\n",
    "        \n",
    "        if response.status_code != 200:\n",
    "            print(f\"Failed to retrieve the webpage. Status code: {response.status_code}\")\n",
    "            break\n",
    "        \n",
    "        soup = BeautifulSoup(response.content, 'html.parser')\n",
    "        products = soup.select('.productLink_KM4PI')\n",
    "        all_products.extend(products)\n",
    "        \n",
    "        # Check for the next page link\n",
    "        next_page = soup.select_one('.pagination-next a')\n",
    "        \n",
    "        # Add a small delay to avoid overloading the server\n",
    "        time.sleep(1)\n",
    "    \n",
    "    # Now extract data from all collected products\n",
    "    data = []\n",
    "    \n",
    "    for product in all_products:\n",
    "        title = product.select_one('.productDescription_sryaw').get_text(strip=True) if product.select_one('.productDescription_sryaw') else 'N/A'  # Selector for product title\n",
    "        original_price = product.select_one('.originalPrice_jEWt1 .price__B9LP').get_text(strip=True) if product.select_one('.originalPrice_jEWt1 .price__B9LP') else 'N/A'  # Selector for original price\n",
    "        link = product['href'] if product else 'N/A'\n",
    "        image_tag = product.select_one('.productHeroContainer_dVvdX img')\n",
    "        image_url = \"https:\" + image_tag['src'] if image_tag else 'N/A'  # Ensure the URL is complete\n",
    "        \n",
    "        data.append({\n",
    "            'Title': title,\n",
    "            'Original Price': original_price,\n",
    "            'Link': link,\n",
    "            'Image URL': image_url\n",
    "        })\n",
    "\n",
    "    return pd.DataFrame(data)\n",
    "\n",
    "# Example usage\n",
    "url = 'https://www.asos.com/women/holiday/holiday-dresses/cat/?cid=51513'  # Replace with the actual URL\n",
    "output_file = 'asos_output.csv'\n",
    "\n",
    "df = scrape_store(url)\n",
    "\n",
    "if df is not None:\n",
    "    df.to_csv(output_file, index=False)\n",
    "    print(f\"Scraped {len(df)} products from {url} and saved to {output_file}\")\n",
    "else:\n",
    "    print(\"No data scraped.\")\n"
   ]
  },
  {
   "cell_type": "code",
   "execution_count": null,
   "id": "16371422-a9e8-445b-b4bc-89456fcf1322",
   "metadata": {},
   "outputs": [],
   "source": []
  }
 ],
 "metadata": {
  "kernelspec": {
   "display_name": "Python 3 (ipykernel)",
   "language": "python",
   "name": "python3"
  },
  "language_info": {
   "codemirror_mode": {
    "name": "ipython",
    "version": 3
   },
   "file_extension": ".py",
   "mimetype": "text/x-python",
   "name": "python",
   "nbconvert_exporter": "python",
   "pygments_lexer": "ipython3",
   "version": "3.11.9"
  }
 },
 "nbformat": 4,
 "nbformat_minor": 5
}
