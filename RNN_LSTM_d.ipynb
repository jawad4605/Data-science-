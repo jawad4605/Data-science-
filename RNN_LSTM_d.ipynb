{
  "cells": [
    {
      "cell_type": "code",
      "execution_count": null,
      "id": "fcce9932",
      "metadata": {
        "id": "fcce9932"
      },
      "outputs": [],
      "source": [
        "import tensorflow as tf\n",
        "import keras\n",
        "import pandas as pd\n",
        "import numpy as np\n",
        "import string\n",
        "import os\n",
        "import gensim\n",
        "import keras\n",
        "from nltk.tokenize import word_tokenize\n",
        "from nltk.corpus import stopwords\n",
        "from keras.preprocessing.text import Tokenizer\n",
        "from keras.models import Sequential\n",
        "from keras.layers import Dense, Dropout, Embedding, LSTM\n",
        "from keras.initializers import Constant\n",
        "from keras.callbacks import ModelCheckpoint"
      ]
    },
    {
      "cell_type": "code",
      "execution_count": null,
      "id": "d2528ece",
      "metadata": {
        "colab": {
          "base_uri": "https://localhost:8080/",
          "height": 206
        },
        "id": "d2528ece",
        "outputId": "3a24f0b3-2b74-4c7a-e013-d137b4b6f1d7"
      },
      "outputs": [
        {
          "output_type": "execute_result",
          "data": {
            "text/plain": [
              "                Name         Inaugural Address                      Date  \\\n",
              "0  George Washington   First Inaugural Address  Thursday, April 30, 1789   \n",
              "1  George Washington  Second Inaugural Address     Monday, March 4, 1793   \n",
              "2         John Adams         Inaugural Address   Saturday, March 4, 1797   \n",
              "3   Thomas Jefferson   First Inaugural Address  Wednesday, March 4, 1801   \n",
              "4   Thomas Jefferson  Second Inaugural Address     Monday, March 4, 1805   \n",
              "\n",
              "                                                text  \n",
              "0             Fellow-Citizens of the Senate and o...  \n",
              "1              Fellow Citizens:    I AM again cal...  \n",
              "2                WHEN it was first perceived, in ...  \n",
              "3              Friends and Fellow-Citizens:    CA...  \n",
              "4                PROCEEDING, fellow-citizens, to ...  "
            ],
            "text/html": [
              "\n",
              "  <div id=\"df-d9a81825-5e46-4150-9bca-77154e2c5599\" class=\"colab-df-container\">\n",
              "    <div>\n",
              "<style scoped>\n",
              "    .dataframe tbody tr th:only-of-type {\n",
              "        vertical-align: middle;\n",
              "    }\n",
              "\n",
              "    .dataframe tbody tr th {\n",
              "        vertical-align: top;\n",
              "    }\n",
              "\n",
              "    .dataframe thead th {\n",
              "        text-align: right;\n",
              "    }\n",
              "</style>\n",
              "<table border=\"1\" class=\"dataframe\">\n",
              "  <thead>\n",
              "    <tr style=\"text-align: right;\">\n",
              "      <th></th>\n",
              "      <th>Name</th>\n",
              "      <th>Inaugural Address</th>\n",
              "      <th>Date</th>\n",
              "      <th>text</th>\n",
              "    </tr>\n",
              "  </thead>\n",
              "  <tbody>\n",
              "    <tr>\n",
              "      <th>0</th>\n",
              "      <td>George Washington</td>\n",
              "      <td>First Inaugural Address</td>\n",
              "      <td>Thursday, April 30, 1789</td>\n",
              "      <td>Fellow-Citizens of the Senate and o...</td>\n",
              "    </tr>\n",
              "    <tr>\n",
              "      <th>1</th>\n",
              "      <td>George Washington</td>\n",
              "      <td>Second Inaugural Address</td>\n",
              "      <td>Monday, March 4, 1793</td>\n",
              "      <td>Fellow Citizens:    I AM again cal...</td>\n",
              "    </tr>\n",
              "    <tr>\n",
              "      <th>2</th>\n",
              "      <td>John Adams</td>\n",
              "      <td>Inaugural Address</td>\n",
              "      <td>Saturday, March 4, 1797</td>\n",
              "      <td>WHEN it was first perceived, in ...</td>\n",
              "    </tr>\n",
              "    <tr>\n",
              "      <th>3</th>\n",
              "      <td>Thomas Jefferson</td>\n",
              "      <td>First Inaugural Address</td>\n",
              "      <td>Wednesday, March 4, 1801</td>\n",
              "      <td>Friends and Fellow-Citizens:    CA...</td>\n",
              "    </tr>\n",
              "    <tr>\n",
              "      <th>4</th>\n",
              "      <td>Thomas Jefferson</td>\n",
              "      <td>Second Inaugural Address</td>\n",
              "      <td>Monday, March 4, 1805</td>\n",
              "      <td>PROCEEDING, fellow-citizens, to ...</td>\n",
              "    </tr>\n",
              "  </tbody>\n",
              "</table>\n",
              "</div>\n",
              "    <div class=\"colab-df-buttons\">\n",
              "\n",
              "  <div class=\"colab-df-container\">\n",
              "    <button class=\"colab-df-convert\" onclick=\"convertToInteractive('df-d9a81825-5e46-4150-9bca-77154e2c5599')\"\n",
              "            title=\"Convert this dataframe to an interactive table.\"\n",
              "            style=\"display:none;\">\n",
              "\n",
              "  <svg xmlns=\"http://www.w3.org/2000/svg\" height=\"24px\" viewBox=\"0 -960 960 960\">\n",
              "    <path d=\"M120-120v-720h720v720H120Zm60-500h600v-160H180v160Zm220 220h160v-160H400v160Zm0 220h160v-160H400v160ZM180-400h160v-160H180v160Zm440 0h160v-160H620v160ZM180-180h160v-160H180v160Zm440 0h160v-160H620v160Z\"/>\n",
              "  </svg>\n",
              "    </button>\n",
              "\n",
              "  <style>\n",
              "    .colab-df-container {\n",
              "      display:flex;\n",
              "      gap: 12px;\n",
              "    }\n",
              "\n",
              "    .colab-df-convert {\n",
              "      background-color: #E8F0FE;\n",
              "      border: none;\n",
              "      border-radius: 50%;\n",
              "      cursor: pointer;\n",
              "      display: none;\n",
              "      fill: #1967D2;\n",
              "      height: 32px;\n",
              "      padding: 0 0 0 0;\n",
              "      width: 32px;\n",
              "    }\n",
              "\n",
              "    .colab-df-convert:hover {\n",
              "      background-color: #E2EBFA;\n",
              "      box-shadow: 0px 1px 2px rgba(60, 64, 67, 0.3), 0px 1px 3px 1px rgba(60, 64, 67, 0.15);\n",
              "      fill: #174EA6;\n",
              "    }\n",
              "\n",
              "    .colab-df-buttons div {\n",
              "      margin-bottom: 4px;\n",
              "    }\n",
              "\n",
              "    [theme=dark] .colab-df-convert {\n",
              "      background-color: #3B4455;\n",
              "      fill: #D2E3FC;\n",
              "    }\n",
              "\n",
              "    [theme=dark] .colab-df-convert:hover {\n",
              "      background-color: #434B5C;\n",
              "      box-shadow: 0px 1px 3px 1px rgba(0, 0, 0, 0.15);\n",
              "      filter: drop-shadow(0px 1px 2px rgba(0, 0, 0, 0.3));\n",
              "      fill: #FFFFFF;\n",
              "    }\n",
              "  </style>\n",
              "\n",
              "    <script>\n",
              "      const buttonEl =\n",
              "        document.querySelector('#df-d9a81825-5e46-4150-9bca-77154e2c5599 button.colab-df-convert');\n",
              "      buttonEl.style.display =\n",
              "        google.colab.kernel.accessAllowed ? 'block' : 'none';\n",
              "\n",
              "      async function convertToInteractive(key) {\n",
              "        const element = document.querySelector('#df-d9a81825-5e46-4150-9bca-77154e2c5599');\n",
              "        const dataTable =\n",
              "          await google.colab.kernel.invokeFunction('convertToInteractive',\n",
              "                                                    [key], {});\n",
              "        if (!dataTable) return;\n",
              "\n",
              "        const docLinkHtml = 'Like what you see? Visit the ' +\n",
              "          '<a target=\"_blank\" href=https://colab.research.google.com/notebooks/data_table.ipynb>data table notebook</a>'\n",
              "          + ' to learn more about interactive tables.';\n",
              "        element.innerHTML = '';\n",
              "        dataTable['output_type'] = 'display_data';\n",
              "        await google.colab.output.renderOutput(dataTable, element);\n",
              "        const docLink = document.createElement('div');\n",
              "        docLink.innerHTML = docLinkHtml;\n",
              "        element.appendChild(docLink);\n",
              "      }\n",
              "    </script>\n",
              "  </div>\n",
              "\n",
              "\n",
              "<div id=\"df-9e19c6c0-9b07-49fc-b5df-b39682296b61\">\n",
              "  <button class=\"colab-df-quickchart\" onclick=\"quickchart('df-9e19c6c0-9b07-49fc-b5df-b39682296b61')\"\n",
              "            title=\"Suggest charts\"\n",
              "            style=\"display:none;\">\n",
              "\n",
              "<svg xmlns=\"http://www.w3.org/2000/svg\" height=\"24px\"viewBox=\"0 0 24 24\"\n",
              "     width=\"24px\">\n",
              "    <g>\n",
              "        <path d=\"M19 3H5c-1.1 0-2 .9-2 2v14c0 1.1.9 2 2 2h14c1.1 0 2-.9 2-2V5c0-1.1-.9-2-2-2zM9 17H7v-7h2v7zm4 0h-2V7h2v10zm4 0h-2v-4h2v4z\"/>\n",
              "    </g>\n",
              "</svg>\n",
              "  </button>\n",
              "\n",
              "<style>\n",
              "  .colab-df-quickchart {\n",
              "      --bg-color: #E8F0FE;\n",
              "      --fill-color: #1967D2;\n",
              "      --hover-bg-color: #E2EBFA;\n",
              "      --hover-fill-color: #174EA6;\n",
              "      --disabled-fill-color: #AAA;\n",
              "      --disabled-bg-color: #DDD;\n",
              "  }\n",
              "\n",
              "  [theme=dark] .colab-df-quickchart {\n",
              "      --bg-color: #3B4455;\n",
              "      --fill-color: #D2E3FC;\n",
              "      --hover-bg-color: #434B5C;\n",
              "      --hover-fill-color: #FFFFFF;\n",
              "      --disabled-bg-color: #3B4455;\n",
              "      --disabled-fill-color: #666;\n",
              "  }\n",
              "\n",
              "  .colab-df-quickchart {\n",
              "    background-color: var(--bg-color);\n",
              "    border: none;\n",
              "    border-radius: 50%;\n",
              "    cursor: pointer;\n",
              "    display: none;\n",
              "    fill: var(--fill-color);\n",
              "    height: 32px;\n",
              "    padding: 0;\n",
              "    width: 32px;\n",
              "  }\n",
              "\n",
              "  .colab-df-quickchart:hover {\n",
              "    background-color: var(--hover-bg-color);\n",
              "    box-shadow: 0 1px 2px rgba(60, 64, 67, 0.3), 0 1px 3px 1px rgba(60, 64, 67, 0.15);\n",
              "    fill: var(--button-hover-fill-color);\n",
              "  }\n",
              "\n",
              "  .colab-df-quickchart-complete:disabled,\n",
              "  .colab-df-quickchart-complete:disabled:hover {\n",
              "    background-color: var(--disabled-bg-color);\n",
              "    fill: var(--disabled-fill-color);\n",
              "    box-shadow: none;\n",
              "  }\n",
              "\n",
              "  .colab-df-spinner {\n",
              "    border: 2px solid var(--fill-color);\n",
              "    border-color: transparent;\n",
              "    border-bottom-color: var(--fill-color);\n",
              "    animation:\n",
              "      spin 1s steps(1) infinite;\n",
              "  }\n",
              "\n",
              "  @keyframes spin {\n",
              "    0% {\n",
              "      border-color: transparent;\n",
              "      border-bottom-color: var(--fill-color);\n",
              "      border-left-color: var(--fill-color);\n",
              "    }\n",
              "    20% {\n",
              "      border-color: transparent;\n",
              "      border-left-color: var(--fill-color);\n",
              "      border-top-color: var(--fill-color);\n",
              "    }\n",
              "    30% {\n",
              "      border-color: transparent;\n",
              "      border-left-color: var(--fill-color);\n",
              "      border-top-color: var(--fill-color);\n",
              "      border-right-color: var(--fill-color);\n",
              "    }\n",
              "    40% {\n",
              "      border-color: transparent;\n",
              "      border-right-color: var(--fill-color);\n",
              "      border-top-color: var(--fill-color);\n",
              "    }\n",
              "    60% {\n",
              "      border-color: transparent;\n",
              "      border-right-color: var(--fill-color);\n",
              "    }\n",
              "    80% {\n",
              "      border-color: transparent;\n",
              "      border-right-color: var(--fill-color);\n",
              "      border-bottom-color: var(--fill-color);\n",
              "    }\n",
              "    90% {\n",
              "      border-color: transparent;\n",
              "      border-bottom-color: var(--fill-color);\n",
              "    }\n",
              "  }\n",
              "</style>\n",
              "\n",
              "  <script>\n",
              "    async function quickchart(key) {\n",
              "      const quickchartButtonEl =\n",
              "        document.querySelector('#' + key + ' button');\n",
              "      quickchartButtonEl.disabled = true;  // To prevent multiple clicks.\n",
              "      quickchartButtonEl.classList.add('colab-df-spinner');\n",
              "      try {\n",
              "        const charts = await google.colab.kernel.invokeFunction(\n",
              "            'suggestCharts', [key], {});\n",
              "      } catch (error) {\n",
              "        console.error('Error during call to suggestCharts:', error);\n",
              "      }\n",
              "      quickchartButtonEl.classList.remove('colab-df-spinner');\n",
              "      quickchartButtonEl.classList.add('colab-df-quickchart-complete');\n",
              "    }\n",
              "    (() => {\n",
              "      let quickchartButtonEl =\n",
              "        document.querySelector('#df-9e19c6c0-9b07-49fc-b5df-b39682296b61 button');\n",
              "      quickchartButtonEl.style.display =\n",
              "        google.colab.kernel.accessAllowed ? 'block' : 'none';\n",
              "    })();\n",
              "  </script>\n",
              "</div>\n",
              "\n",
              "    </div>\n",
              "  </div>\n"
            ],
            "application/vnd.google.colaboratory.intrinsic+json": {
              "type": "dataframe",
              "variable_name": "df_speech",
              "summary": "{\n  \"name\": \"df_speech\",\n  \"rows\": 58,\n  \"fields\": [\n    {\n      \"column\": \"Name\",\n      \"properties\": {\n        \"dtype\": \"string\",\n        \"num_unique_values\": 39,\n        \"samples\": [\n          \"Ronald Reagan\",\n          \"George W. Bush\",\n          \"James Monroe\"\n        ],\n        \"semantic_type\": \"\",\n        \"description\": \"\"\n      }\n    },\n    {\n      \"column\": \"Inaugural Address\",\n      \"properties\": {\n        \"dtype\": \"category\",\n        \"num_unique_values\": 5,\n        \"samples\": [\n          \"Second Inaugural Address\",\n          \"Fourth Inaugural Address\",\n          \"Inaugural Address\"\n        ],\n        \"semantic_type\": \"\",\n        \"description\": \"\"\n      }\n    },\n    {\n      \"column\": \"Date\",\n      \"properties\": {\n        \"dtype\": \"string\",\n        \"num_unique_values\": 58,\n        \"samples\": [\n          \"Thursday, April 30, 1789\",\n          \"Saturday, March 4, 1809\",\n          \"Wednesday, March 4, 1925\"\n        ],\n        \"semantic_type\": \"\",\n        \"description\": \"\"\n      }\n    },\n    {\n      \"column\": \"text\",\n      \"properties\": {\n        \"dtype\": \"string\",\n        \"num_unique_values\": 58,\n        \"samples\": [\n          \"           Fellow-Citizens of the Senate and of the House of Representatives:  \\u00a0\\u00a0AMONG the vicissitudes incident to life no event could have filled me with greater anxieties than that of which the notification was transmitted by your order, and received on the   th day of the present month. On the one hand, I was summoned by my country, whose voice I can never hear but with veneration and love, from a retreat which I had chosen with the fondest predilection, and, in my flattering hopes, with an immutable decision, as the asylum of my declining years<U+0097>a retreat which was rendered every day more necessary as well as more dear to me by the addition of habit to inclination, and of frequent interruptions in my health to the gradual waste committed on it by time. On the other hand, the magnitude and difficulty of the trust to which the voice of my country called me, being sufficient to awaken in the wisest and most experienced of her citizens a distrustful scrutiny into his qualifications, could not but overwhelm with despondence one who (inheriting inferior endowments from nature and unpracticed in the duties of civil administration) ought to be peculiarly conscious of his own deficiencies. In this conflict of emotions all I dare aver is that it has been my faithful study to collect my duty from a just appreciation of every circumstance by which it might be affected. All I dare hope is that if, in executing this task, I have been too much swayed by a grateful remembrance of former instances, or by an affectionate sensibility to this transcendent proof of the confidence of my fellow-citizens, and have thence too little consulted my incapacity as well as disinclination for the weighty and untried cares before me, my error will be palliated by the motives which mislead me, and its consequences be judged by my country with some share of the partiality in which they originated.\\u00a0\\u00a0\\u00a0 \\u00a0\\u00a0Such being the impressions under which I have, in obedience to the public summons, repaired to the present station, it would be peculiarly improper to omit in this first official act my fervent supplications to that Almighty Being who rules over the universe, who presides in the councils of nations, and whose providential aids can supply every human defect, that His benediction may consecrate to the liberties and happiness of the people of the United States a Government instituted by themselves for these essential purposes, and may enable every instrument employed in its administration to execute with success the functions allotted to his charge. In tendering this homage to the Great Author of every public and private good, I assure myself that it expresses your sentiments not less than my own, nor those of my fellow-citizens at large less than either. No people can be bound to acknowledge and adore the Invisible Hand which conducts the affairs of men more than those of the United States. Every step by which they have advanced to the character of an independent nation seems to have been distinguished by some token of providential agency; and in the important revolution just accomplished in the system of their united government the tranquil deliberations and voluntary consent of so many distinct communities from which the event has resulted can not be compared with the means by which most governments have been established without some return of pious gratitude, along with an humble anticipation of the future blessings which the past seem to presage. These reflections, arising out of the present crisis, have forced themselves too strongly on my mind to be suppressed. You will join with me, I trust, in thinking that there are none under the influence of which the proceedings of a new and free government can more auspiciously commence. \\u00a0\\u00a0By the article establishing the executive department it is made the duty of the President \\\"to recommend to your consideration such measures as he shall judge necessary and expedient.\\\" The circumstances under which I now meet you will acquit me from entering into that subject further than to refer to the great constitutional charter under which you are assembled, and which, in defining your powers, designates the objects to which your attention is to be given. It will be more consistent with those circumstances, and far more congenial with the feelings which actuate me, to substitute, in place of a recommendation of particular measures, the tribute that is due to the talents, the rectitude, and the patriotism which adorn the characters selected to devise and adopt them. In these honorable qualifications I behold the surest pledges that as on one side no local prejudices or attachments, no separate views nor party animosities, will misdirect the comprehensive and equal eye which ought to watch over this great assemblage of communities and interests, so, on another, that the foundation of our national policy will be laid in the pure and immutable principles of private morality, and the preeminence of free government be exemplified by all the attributes which can win the affections of its citizens and command the respect of the world. I dwell on this prospect with every satisfaction which an ardent love for my country can inspire, since there is no truth more thoroughly established than that there exists in the economy and course of nature an indissoluble union between virtue and happiness; between duty and advantage; between the genuine maxims of an honest and magnanimous policy and the solid rewards of public prosperity and felicity; since we ought to be no less persuaded that the propitious smiles of Heaven can never be expected on a nation that disregards the eternal rules of order and right which Heaven itself has ordained; and since the preservation of the sacred fire of liberty and the destiny of the republican model of government are justly considered, perhaps, as deeply, as finally, staked on the experiment entrusted to the hands of the American people. \\u00a0\\u00a0Besides the ordinary objects submitted to your care, it will remain with your judgment to decide how far an exercise of the occasional power delegated by the fifth article of the Constitution is rendered expedient at the present juncture by the nature of objections which have been urged against the system, or by the degree of inquietude which has given birth to them. Instead of undertaking particular recommendations on this subject, in which I could be guided by no lights derived from official opportunities, I shall again give way to my entire confidence in your discernment and pursuit of the public good; for I assure myself that whilst you carefully avoid every alteration which might endanger the benefits of an united and effective government, or which ought to await the future lessons of experience, a reverence for the characteristic rights of freemen and a regard for the public harmony will sufficiently influence your deliberations on the question how far the former can be impregnably fortified or the latter be safely and advantageously promoted. \\u00a0\\u00a0To the foregoing observations I have one to add, which will be most properly addressed to the House of Representatives. It concerns myself, and will therefore be as brief as possible. When I was first honored with a call into the service of my country, then on the eve of an arduous struggle for its liberties, the light in which I contemplated my duty required that I should renounce every pecuniary compensation. From this resolution I have in no instance departed; and being still under the impressions which produced it, I must decline as inapplicable to myself any share in the personal emoluments which may be indispensably included in a permanent provision for the executive department, and must accordingly pray that the pecuniary estimates for the station in which I am placed may during my continuance in it be limited to such actual expenditures as the public good may be thought to require. \\u00a0\\u00a0Having thus imparted to you my sentiments as they have been awakened by the occasion which brings us together, I shall take my present leave; but not without resorting once more to the benign Parent of the Human Race in humble supplication that, since He has been pleased to favor the American people with opportunities for deliberating in perfect tranquillity, and dispositions for deciding with unparalleled unanimity on a form of government for the security of their union and the advancement of their happiness, so His divine blessing may be equally conspicuous in the enlarged views, the temperate consultations, and the wise measures on which the success of this Government must depend.    \\u00a0    \\u00a0  \",\n          \"            \\u00a0\\u00a0UNWILLING to depart from examples of the most revered authority, I avail myself of the occasion now presented to express the profound impression made on me by the call of my country to the station to the duties of which I am about to pledge myself by the most solemn of sanctions. So distinguished a mark of confidence, proceeding from the deliberate and tranquil suffrage of a free and virtuous nation, would under any circumstances have commanded my gratitude and devotion, as well as filled me with an awful sense of the trust to be assumed. Under the various circumstances which give peculiar solemnity to the existing period, I feel that both the honor and the responsibility allotted to me are inexpressibly enhanced.\\u00a0\\u00a0\\u00a0 \\u00a0\\u00a0The present situation of the world is indeed without a parallel, and that of our own country full of difficulties. The pressure of these, too, is the more severely felt because they have fallen upon us at a moment when the national prosperity being at a height not before attained, the contrast resulting from the change has been rendered the more striking. Under the benign influence of our republican institutions, and the maintenance of peace with all nations whilst so many of them were engaged in bloody and wasteful wars, the fruits of a just policy were enjoyed in an unrivaled growth of our faculties and resources. Proofs of this were seen in the improvements of agriculture, in the successful enterprises of commerce, in the progress of manufacturers and useful arts, in the increase of the public revenue and the use made of it in reducing the public debt, and in the valuable works and establishments everywhere multiplying over the face of our land. \\u00a0\\u00a0It is a precious reflection that the transition from this prosperous condition of our country to the scene which has for some time been distressing us is not chargeable on any unwarrantable views, nor, as I trust, on any involuntary errors in the public councils. Indulging no passions which trespass on the rights or the repose of other nations, it has been the true glory of the United States to cultivate peace by observing justice, and to entitle themselves to the respect of the nations at war by fulfilling their neutral obligations with the most scrupulous impartiality. If there be candor in the world, the truth of these assertions will not be questioned; posterity at least will do justice to them. \\u00a0\\u00a0This unexceptionable course could not avail against the injustice and violence of the belligerent powers. In their rage against each other, or impelled by more direct motives, principles of retaliation have been introduced equally contrary to universal reason and acknowledged law. How long their arbitrary edicts will be continued in spite of the demonstrations that not even a pretext for them has been given by the United States, and of the fair and liberal attempt to induce a revocation of them, can not be anticipated. Assuring myself that under every vicissitude the determined spirit and united councils of the nation will be safeguards to its honor and its essential interests, I repair to the post assigned me with no other discouragement than what springs from my own inadequacy to its high duties. If I do not sink under the weight of this deep conviction it is because I find some support in a consciousness of the purposes and a confidence in the principles which I bring with me into this arduous service. \\u00a0\\u00a0To cherish peace and friendly intercourse with all nations having correspondent dispositions; to maintain sincere neutrality toward belligerent nations; to prefer in all cases amicable discussion and reasonable accommodation of differences to a decision of them by an appeal to arms; to exclude foreign intrigues and foreign partialities, so degrading to all countries and so baneful to free ones; to foster a spirit of independence too just to invade the rights of others, too proud to surrender our own, too liberal to indulge unworthy prejudices ourselves and too elevated not to look down upon them in others; to hold the union of the States as the basis of their peace and happiness; to support the Constitution, which is the cement of the Union, as well in its limitations as in its authorities; to respect the rights and authorities reserved to the States and to the people as equally incorporated with and essential to the success of the general system; to avoid the slightest interference with the right of conscience or the functions of religion, so wisely exempted from civil jurisdiction; to preserve in their full energy the other salutary provisions in behalf of private and personal rights, and of the freedom of the press; to observe economy in public expenditures; to liberate the public resources by an honorable discharge of the public debts; to keep within the requisite limits a standing military force, always remembering that an armed and trained militia is the firmest bulwark of republics<U+0097>that without standing armies their liberty can never be in danger, nor with large ones safe; to promote by authorized means improvements friendly to agriculture, to manufactures, and to external as well as internal commerce; to favor in like manner the advancement of science and the diffusion of information as the best aliment to true liberty; to carry on the benevolent plans which have been so meritoriously applied to the conversion of our aboriginal neighbors from the degradation and wretchedness of savage life to a participation of the improvements of which the human mind and manners are susceptible in a civilized state<U+0097>as far as sentiments and intentions such as these can aid the fulfillment of my duty, they will be a resource which can not fail me. \\u00a0\\u00a0It is my good fortune, moreover, to have the path in which I am to tread lighted by examples of illustrious services successfully rendered in the most trying difficulties by those who have marched before me. Of those of my immediate predecessor it might least become me here to speak. I may, however, be pardoned for not suppressing the sympathy with which my heart is full in the rich reward he enjoys in the benedictions of a beloved country, gratefully bestowed or exalted talents zealously devoted through a long career to the advancement of its highest interest and happiness. \\u00a0\\u00a0But the source to which I look or the aids which alone can supply my deficiencies is in the well-tried intelligence and virtue of my fellow-citizens, and in the counsels of those representing them in the other departments associated in the care of the national interests. In these my confidence will under every difficulty be best placed, next to that which we have all been encouraged to feel in the guardianship and guidance of that Almighty Being whose power regulates the destiny of nations, whose blessings have been so conspicuously dispensed to this rising Republic, and to whom we are bound to address our devout gratitude for the past, as well as our fervent supplications and best hopes for the future.     \\u00a0    \\u00a0  \",\n          \"            My Countrymen:  \\u00a0\\u00a0NO one can contemplate current conditions without finding much that is satisfying and still more that is encouraging. Our own country is leading the world in the general readjustment to the results of the great conflict. Many of its burdens will bear heavily upon us for years, and the secondary and indirect effects we must expect to experience for some time. But we are beginning to comprehend more definitely what course should be pursued, what remedies ought to be applied, what actions should be taken for our deliverance, and are clearly manifesting a determined will faithfully and conscientiously to adopt these methods of relief. Already we have sufficiently rearranged our domestic affairs so that confidence has returned, business has revived, and we appear to be entering an era of prosperity which is gradually reaching into every part of the Nation. Realizing that we can not live unto ourselves alone, we have contributed of our resources and our counsel to the relief of the suffering and the settlement of the disputes among the European nations. Because of what America is and what America has done, a firmer courage, a higher hope, inspires the heart of all humanity.\\u00a0\\u00a0\\u00a0 \\u00a0\\u00a0These results have not occurred by mere chance. They have been secured by a constant and enlightened effort marked by many sacrifices and extending over many generations. We can not continue these brilliant successes in the future, unless we continue to learn from the past. It is necessary to keep the former experiences of our country both at home and abroad continually before us, if we are to have any science of government. If we wish to erect new structures, we must have a definite knowledge of the old foundations. We must realize that human nature is about the most constant thing in the universe and that the essentials of human relationship do not change. We must frequently take our bearings from these fixed stars of our political firmament if we expect to hold a true course. If we examine carefully what we have done, we can determine the more accurately what we can do. \\u00a0\\u00a0We stand at the opening of the one hundred and fiftieth year since our national consciousness first asserted itself by unmistakable action with an array of force. The old sentiment of detached and dependent colonies disappeared in the new sentiment of a united and independent Nation. Men began to discard the narrow confines of a local charter for the broader opportunities of a national constitution. Under the eternal urge of freedom we became an independent Nation. A little less than    years later that freedom and independence were reasserted in the face of all the world, and guarded, supported, and secured by the Monroe doctrine. The narrow fringe of States along the Atlantic seaboard advanced its frontiers across the hills and plains of an intervening continent until it passed down the golden slope to the Pacific. We made freedom a birthright. We extended our domain over distant islands in order to safeguard our own interests and accepted the consequent obligation to bestow justice and liberty upon less favored peoples. In the defense of our own ideals and in the general cause of liberty we entered the Great War. When victory had been fully secured, we withdrew to our own shores unrecompensed save in the consciousness of duty done. \\u00a0\\u00a0Throughout all these experiences we have enlarged our freedom, we have strengthened our independence. We have been, and propose to be, more and more American. We believe that we can best serve our own country and most successfully discharge our obligations to humanity by continuing to be openly and candidly, intensely and scrupulously, American. If we have any heritage, it has been that. If we have any destiny, we have found it in that direction. \\u00a0\\u00a0But if we wish to continue to be distinctively American, we must continue to make that term comprehensive enough to embrace the legitimate desires of a civilized and enlightened people determined in all their relations to pursue a conscientious and religious life. We can not permit ourselves to be narrowed and dwarfed by slogans and phrases. It is not the adjective, but the substantive, which is of real importance. It is not the name of the action, but the result of the action, which is the chief concern. It will be well not to be too much disturbed by the thought of either isolation or entanglement of pacifists and militarists. The physical configuration of the earth has separated us from all of the Old World, but the common brotherhood of man, the highest law of all our being, has united us by inseparable bonds with all humanity. Our country represents nothing but peaceful intentions toward all the earth, but it ought not to fail to maintain such a military force as comports with the dignity and security of a great people. It ought to be a balanced force, intensely modern, capable of defense by sea and land, beneath the surface and in the air. But it should be so conducted that all the world may see in it, not a menace, but an instrument of security and peace. \\u00a0\\u00a0This Nation believes thoroughly in an honorable peace under which the rights of its citizens are to be everywhere protected. It has never found that the necessary enjoyment of such a peace could be maintained only by a great and threatening array of arms. In common with other nations, it is now more determined than ever to promote peace through friendliness and good will, through mutual understandings and mutual forbearance. We have never practiced the policy of competitive armaments. We have recently committed ourselves by covenants with the other great nations to a limitation of our sea power. As one result of this, our Navy ranks larger, in comparison, than it ever did before. Removing the burden of expense and jealousy, which must always accrue from a keen rivalry, is one of the most effective methods of diminishing that unreasonable hysteria and misunderstanding which are the most potent means of fomenting war. This policy represents a new departure in the world. It is a thought, an ideal, which has led to an entirely new line of action. It will not be easy to maintain. Some never moved from their old positions, some are constantly slipping back to the old ways of thought and the old action of seizing a musket and relying on force. America has taken the lead in this new direction, and that lead America must continue to hold. If we expect others to rely on our fairness and justice we must show that we rely on their fairness and justice. \\u00a0\\u00a0If we are to judge by past experience, there is much to be hoped for in international relations from frequent conferences and consultations. We have before us the beneficial results of the Washington conference and the various consultations recently held upon European affairs, some of which were in response to our suggestions and in some of which we were active participants. Even the failures can not but be accounted useful and an immeasurable advance over threatened or actual warfare. I am strongly in favor of continuation of this policy, whenever conditions are such that there is even a promise that practical and favorable results might be secured. \\u00a0\\u00a0In conformity with the principle that a display of reason rather than a threat of force should be the determining factor in the intercourse among nations, we have long advocated the peaceful settlement of disputes by methods of arbitration and have negotiated many treaties to secure that result. The same considerations should lead to our adherence to the Permanent Court of International Justice. Where great principles are involved, where great movements are under way which promise much for the welfare of humanity by reason of the very fact that many other nations have given such movements their actual support, we ought not to withhold our own sanction because of any small and inessential difference, but only upon the ground of the most important and compelling fundamental reasons. We can not barter away our independence or our sovereignty, but we ought to engage in no refinements of logic, no sophistries, and no subterfuges, to argue away the undoubted duty of this country by reason of the might of its numbers, the power of its resources, and its position of leadership in the world, actively and comprehensively to signify its approval and to bear its full share of the responsibility of a candid and disinterested attempt at the establishment of a tribunal for the administration of even-handed justice between nation and nation. The weight of our enormous influence must be cast upon the side of a reign not of force but of law and trial, not by battle but by reason. \\u00a0\\u00a0We have never any wish to interfere in the political conditions of any other countries. Especially are we determined not to become implicated in the political controversies of the Old World. With a great deal of hesitation, we have responded to appeals for help to maintain order, protect life and property, and establish responsible government in some of the small countries of the Western Hemisphere. Our private citizens have advanced large sums of money to assist in the necessary financing and relief of the Old World. We have not failed, nor shall we fail to respond, whenever necessary to mitigate human suffering and assist in the rehabilitation of distressed nations. These, too, are requirements which must be met by reason of our vast powers and the place we hold in the world. \\u00a0\\u00a0Some of the best thought of mankind has long been seeking for a formula for permanent peace. Undoubtedly the clarification of the principles of international law would be helpful, and the efforts of scholars to prepare such a work for adoption by the various nations should have our sympathy and support. Much may be hoped for from the earnest studies of those who advocate the outlawing of aggressive war. But all these plans and preparations, these treaties and covenants, will not of themselves be adequate. One of the greatest dangers to peace lies in the economic pressure to which people find themselves subjected. One of the most practical things to be done in the world is to seek arrangements under which such pressure may be removed, so that opportunity may be renewed and hope may be revived. There must be some assurance that effort and endeavor will be followed by success and prosperity. In the making and financing of such adjustments there is not only an opportunity, but a real duty, for America to respond with her counsel and her resources. Conditions must be provided under which people can make a living and work out of their difficulties. But there is another element, more important than all, without which there can not be the slightest hope of a permanent peace. That element lies in the heart of humanity. Unless the desire for peace be cherished there, unless this fundamental and only natural source of brotherly love be cultivated to its highest degree, all artificial efforts will be in vain. Peace will come when there is realization that only under a reign of law, based on righteousness and supported by the religious conviction of the brotherhood of man, can there be any hope of a complete and satisfying life. Parchment will fail, the sword will fail, it is only the spiritual nature of man that can be triumphant.  \\u00a0\\u00a0It seems altogether probable that we can contribute most to these important objects by maintaining our position of political detachment and independence. We are not identified with any Old World interests. This position should be made more and more clear in our relations with all foreign countries. We are at peace with all of them. Our program is never to oppress, but always to assist. But while we do justice to others, we must require that justice be done to us. With us a treaty of peace means peace, and a treaty of amity means amity. We have made great contributions to the settlement of contentious differences in both Europe and Asia. But there is a very definite point beyond which we can not go. We can only help those who help themselves. Mindful of these limitations, the one great duty that stands out requires us to use our enormous powers to trim the balance of the world.  \\u00a0\\u00a0While we can look with a great deal of pleasure upon what we have done abroad, we must remember that our continued success in that direction depends upon what we do at home. Since its very outset, it has been found necessary to conduct our Government by means of political parties. That system would not have survived from generation to generation if it had not been fundamentally sound and provided the best instrumentalities for the most complete expression of the popular will. It is not necessary to claim that it has always worked perfectly. It is enough to know that nothing better has been devised. No one would deny that there should be full and free expression and an opportunity for independence of action within the party. There is no salvation in a narrow and bigoted partisanship. But if there is to be responsible party government, the party label must be something more than a mere device for securing office. Unless those who are elected under the same party designation are willing to assume sufficient responsibility and exhibit sufficient loyalty and coherence, so that they can cooperate with each other in the support of the broad general principles, of the party platform, the election is merely a mockery, no decision is made at the polls, and there is no representation of the popular will. Common honesty and good faith with the people who support a party at the polls require that party, when it enters office, to assume the control of that portion of the Government to which it has been elected. Any other course is bad faith and a violation of the party pledges.  \\u00a0\\u00a0When the country has bestowed its confidence upon a party by making it a majority in the Congress, it has a right to expect such unity of action as will make the party majority an effective instrument of government. This Administration has come into power with a very clear and definite mandate from the people. The expression of the popular will in favor of maintaining our constitutional guarantees was overwhelming and decisive. There was a manifestation of such faith in the integrity of the courts that we can consider that issue rejected for some time to come. Likewise, the policy of public ownership of railroads and certain electric utilities met with unmistakable defeat. The people declared that they wanted their rights to have not a political but a judicial determination, and their independence and freedom continued and supported by having the ownership and control of their property, not in the Government, but in their own hands. As they always do when they have a fair chance, the people demonstrated that they are sound and are determined to have a sound government.  \\u00a0\\u00a0When we turn from what was rejected to inquire what was accepted, the policy that stands out with the greatest clearness is that of economy in public expenditure with reduction and reform of taxation. The principle involved in this effort is that of conservation. The resources of this country are almost beyond computation. No mind can comprehend them. But the cost of our combined governments is likewise almost beyond definition. Not only those who are now making their tax returns, but those who meet the enhanced cost of existence in their monthly bills, know by hard experience what this great burden is and what it does. No matter what others may want, these people want a drastic economy. They are opposed to waste. They know that extravagance lengthens the hours and diminishes the rewards of their labor. I favor the policy of economy, not because I wish to save money, but because I wish to save people. The men and women of this country who toil are the ones who bear the cost of the Government. Every dollar that we carelessly waste means that their life will be so much the more meager. Every dollar that we prudently save means that their life will be so much the more abundant. Economy is idealism in its most practical form.  \\u00a0\\u00a0If extravagance were not reflected in taxation, and through taxation both directly and indirectly injuriously affecting the people, it would not be of so much consequence. The wisest and soundest method of solving our tax problem is through economy. Fortunately, of all the great nations this country is best in a position to adopt that simple remedy. We do not any longer need wartime revenues. The collection of any taxes which are not absolutely required, which do not beyond reasonable doubt contribute to the public welfare, is only a species of legalized larceny. Under this republic the rewards of industry belong to those who earn them. The only constitutional tax is the tax which ministers to public necessity. The property of the country belongs to the people of the country. Their title is absolute. They do not support any privileged class; they do not need to maintain great military forces; they ought not to be burdened with a great array of public employees. They are not required to make any contribution to Government expenditures except that which they voluntarily assess upon themselves through the action of their own representatives. Whenever taxes become burdensome a remedy can be applied by the people; but if they do not act for themselves, no one can be very successful in acting for them.  \\u00a0\\u00a0The time is arriving when we can have further tax reduction, when, unless we wish to hamper the people in their right to earn a living, we must have tax reform. The method of raising revenue ought not to impede the transaction of business; it ought to encourage it. I am opposed to extremely high rates, because they produce little or no revenue, because they are bad for the country, and, finally, because they are wrong. We can not finance the country, we can not improve social conditions, through any system of injustice, even if we attempt to inflict it upon the rich. Those who suffer the most harm will be the poor. This country believes in prosperity. It is absurd to suppose that it is envious of those who are already prosperous. The wise and correct course to follow in taxation and all other economic legislation is not to destroy those who have already secured success but to create conditions under which every one will have a better chance to be successful. The verdict of the country has been given on this question. That verdict stands. We shall do well to heed it.  \\u00a0\\u00a0These questions involve moral issues. We need not concern ourselves much about the rights of property if we will faithfully observe the rights of persons. Under our institutions their rights are supreme. It is not property but the right to hold property, both great and small, which our Constitution guarantees. All owners of property are charged with a service. These rights and duties have been revealed, through the conscience of society, to have a divine sanction. The very stability of our society rests upon production and conservation. For individuals or for governments to waste and squander their resources is to deny these rights and disregard these obligations. The result of economic dissipation to a nation is always moral decay.  \\u00a0\\u00a0These policies of better international understandings, greater economy, and lower taxes have contributed largely to peaceful and prosperous industrial relations. Under the helpful influences of restrictive immigration and a protective tariff, employment is plentiful, the rate of pay is high, and wage earners are in a state of contentment seldom before seen. Our transportation systems have been gradually recovering and have been able to meet all the requirements of the service. Agriculture has been very slow in reviving, but the price of cereals at last indicates that the day of its deliverance is at hand.  \\u00a0\\u00a0We are not without our problems, but our most important problem is not to secure new advantages but to maintain those which we already possess. Our system of government made up of three separate and independent departments, our divided sovereignty composed of Nation and State, the matchless wisdom that is enshrined in our Constitution, all these need constant effort and tireless vigilance for their protection and support.  \\u00a0\\u00a0In a republic the first rule for the guidance of the citizen is obedience to law. Under a despotism the law may be imposed upon the subject. He has no voice in its making, no influence in its administration, it does not represent him. Under a free government the citizen makes his own laws, chooses his own administrators, which do represent him. Those who want their rights respected under the Constitution and the law ought to set the example themselves of observing the Constitution and the law. While there may be those of high intelligence who violate the law at times, the barbarian and the defective always violate it. Those who disregard the rules of society are not exhibiting a superior intelligence, are not promoting freedom and independence, are not following the path of civilization, but are displaying the traits of ignorance, of servitude, of savagery, and treading the way that leads back to the jungle.  \\u00a0\\u00a0The essence of a republic is representative government. Our Congress represents the people and the States. In all legislative affairs it is the natural collaborator with the President. In spite of all the criticism which often falls to its lot, I do not hesitate to say that there is no more independent and effective legislative body in the world. It is, and should be, jealous of its prerogative. I welcome its cooperation, and expect to share with it not only the responsibility, but the credit, for our common effort to secure beneficial legislation.  \\u00a0\\u00a0These are some of the principles which America represents. We have not by any means put them fully into practice, but we have strongly signified our belief in them. The encouraging feature of our country is not that it has reached its destination, but that it has overwhelmingly expressed its determination to proceed in the right direction. It is true that we could, with profit, be less sectional and more national in our thought. It would be well if we could replace much that is only a false and ignorant prejudice with a true and enlightened pride of race. But the last election showed that appeals to class and nationality had little effect. We were all found loyal to a common citizenship. The fundamental precept of liberty is toleration. We can not permit any inquisition either within or without the law or apply any religious test to the holding of office. The mind of America must be forever free.  \\u00a0\\u00a0It is in such contemplations, my fellow countrymen, which are not exhaustive but only representative, that I find ample warrant for satisfaction and encouragement. We should not let the much that is to do obscure the much which has been done. The past and present show faith and hope and courage fully justified. Here stands our country, an example of tranquillity at home, a patron of tranquillity abroad. Here stands its Government, aware of its might but obedient to its conscience. Here it will continue to stand, seeking peace and prosperity, solicitous for the welfare of the wage earner, promoting enterprise, developing waterways and natural resources, attentive to the intuitive counsel of womanhood, encouraging education, desiring the advancement of religion, supporting the cause of justice and honor among the nations. America seeks no earthly empire built on blood and force. No ambition, no temptation, lures her to thought of foreign dominions. The legions which she sends forth are armed, not with the sword, but with the cross. The higher state to which she seeks the allegiance of all mankind is not of human, but of divine origin. She cherishes no purpose save to merit the favor of Almighty God.      \\u00a0    \\u00a0  \"\n        ],\n        \"semantic_type\": \"\",\n        \"description\": \"\"\n      }\n    }\n  ]\n}"
            }
          },
          "metadata": {},
          "execution_count": 2
        }
      ],
      "source": [
        "# data source: https://www.kaggle.com/datasets/adhok93/presidentialaddress/\n",
        "\n",
        "df_speech = pd.read_csv('/content/inaug_speeches.csv', encoding= 'latin1')\n",
        "df_speech = df_speech.drop(columns = \"Unnamed: 0\")\n",
        "df_speech.head()\n"
      ]
    },
    {
      "cell_type": "code",
      "execution_count": null,
      "id": "85c96313",
      "metadata": {
        "colab": {
          "base_uri": "https://localhost:8080/"
        },
        "id": "85c96313",
        "outputId": "29b7aa69-af11-454c-f92d-8fc86b18995c"
      },
      "outputs": [
        {
          "output_type": "stream",
          "name": "stderr",
          "text": [
            "[nltk_data] Downloading package punkt to /root/nltk_data...\n",
            "[nltk_data]   Unzipping tokenizers/punkt.zip.\n"
          ]
        }
      ],
      "source": [
        "# Clean Data\n",
        "import nltk\n",
        "nltk.download('punkt')\n",
        "\n",
        "speech_lines = list()\n",
        "lines = df_speech[\"text\"].values.tolist()\n",
        "\n",
        "for line in lines:\n",
        "    tokens = word_tokenize(line)\n",
        "\n",
        "    # convert to lower case\n",
        "    tokens = [w.lower() for w in tokens]\n",
        "\n",
        "    # remove punctuation from each word\n",
        "    table = str.maketrans(\"\", \"\", string.punctuation)\n",
        "    stripped = [w.translate(table) for w in tokens]\n",
        "\n",
        "    # remove remaining tokens that are not alphabetic\n",
        "    words = [w for w in stripped if w.isalpha()]\n",
        "\n",
        "    speech_lines.append(words)\n"
      ]
    },
    {
      "cell_type": "code",
      "execution_count": null,
      "id": "1567867d",
      "metadata": {
        "id": "1567867d"
      },
      "outputs": [],
      "source": [
        "# Trun words into Word-2-Vec Embeddings\n",
        "EMBEDDING_DIM = 20\n",
        "model = gensim.models.Word2Vec(sentences=speech_lines,\n",
        "                               vector_size= EMBEDDING_DIM,\n",
        "                               window=5, workers=2, min_count=1)\n",
        "\n",
        "# vocab size\n",
        "words = list(model.wv.key_to_index)"
      ]
    },
    {
      "cell_type": "code",
      "execution_count": null,
      "id": "e93f88a1",
      "metadata": {
        "id": "e93f88a1"
      },
      "outputs": [],
      "source": [
        "file_name = \"inaug_speech_word2vec.txt\"\n",
        "model.wv.save_word2vec_format(file_name, binary=False)"
      ]
    },
    {
      "cell_type": "code",
      "execution_count": null,
      "id": "ebfe5bfb",
      "metadata": {
        "id": "ebfe5bfb"
      },
      "outputs": [],
      "source": [
        "embeddings_index = {}\n",
        "\n",
        "f = open(os.path.join(\"\", \"inaug_speech_word2vec.txt\"), encoding=\"utf-8\")\n",
        "for line in f:\n",
        "    values = line.split()\n",
        "    word = values[0]\n",
        "    coefs = np.array(values[1:])\n",
        "    embeddings_index[word]=coefs\n",
        "\n",
        "f.close()"
      ]
    },
    {
      "cell_type": "code",
      "execution_count": null,
      "id": "d2cf129a",
      "metadata": {
        "id": "d2cf129a"
      },
      "outputs": [],
      "source": [
        "tokenizer_obj = Tokenizer()\n",
        "tokenizer_obj.fit_on_texts(speech_lines)\n",
        "\n",
        "# create word index dict\n",
        "word_index = tokenizer_obj.word_index\n",
        "\n",
        "# vocab\n",
        "vocab_size = len(tokenizer_obj.word_index) + 1\n",
        "\n",
        "# tokenize\n",
        "speech_tokens = tokenizer_obj.texts_to_sequences(speech_lines)"
      ]
    },
    {
      "cell_type": "code",
      "execution_count": null,
      "id": "86d829f5",
      "metadata": {
        "id": "86d829f5"
      },
      "outputs": [],
      "source": [
        "# map embeddings from word2vec model for each word\n",
        "num_words = len(word_index) + 1\n",
        "embedding_matrix = np.zeros((num_words, EMBEDDING_DIM))\n",
        "\n",
        "for word, i in word_index.items():\n",
        "    if i > num_words:\n",
        "        continue\n",
        "    embedding_vector = embeddings_index.get(word)\n",
        "    if embedding_vector is not None:\n",
        "        embedding_matrix[i] = embedding_vector"
      ]
    },
    {
      "cell_type": "code",
      "execution_count": null,
      "id": "9f72903b",
      "metadata": {
        "id": "9f72903b"
      },
      "outputs": [],
      "source": [
        "# Prepare Train and Test DataSets\n",
        "\n",
        "seq_len = 10\n",
        "dataX=[]\n",
        "dataY=[]\n",
        "\n",
        "for i in range(len(speech_tokens)):\n",
        "    for j in range(0, len(speech_tokens[i])-seq_len, 1):\n",
        "        seq_in = speech_tokens[i][j:j+seq_len]\n",
        "        seq_out = speech_tokens[i][j+seq_len]\n",
        "        dataX.append(seq_in)\n",
        "        dataY.append(seq_out)\n",
        "\n",
        "# Reshape and Create Sparse Matrix\n",
        "X = np.reshape(dataX, (len(dataX), seq_len))\n",
        "y = keras.utils.to_categorical(dataY)"
      ]
    },
    {
      "cell_type": "code",
      "execution_count": null,
      "id": "qGNyKmgDAQOe",
      "metadata": {
        "id": "qGNyKmgDAQOe"
      },
      "outputs": [],
      "source": [
        "\n"
      ]
    },
    {
      "cell_type": "code",
      "execution_count": null,
      "id": "2b757e21",
      "metadata": {
        "id": "2b757e21"
      },
      "outputs": [],
      "source": [
        "from keras.layers import Input  # Import Input function from Keras\n",
        "\n",
        "# Assuming `seq_len`, `num_words`, `EMBEDDING_DIM`, and `embedding_matrix` are defined as before\n",
        "\n",
        "model = Sequential()\n",
        "model.add(Input(shape=(seq_len,)))  # Input layer for sequences of length seq_len\n",
        "embedding_layer = Embedding(num_words,\n",
        "                            EMBEDDING_DIM,\n",
        "                            embeddings_initializer=Constant(embedding_matrix),\n",
        "                            input_length=seq_len,\n",
        "                            trainable=False)\n",
        "model.add(embedding_layer)\n",
        "model.add(LSTM(256, return_sequences=True))\n",
        "model.add(Dropout(0.2))\n",
        "model.add(LSTM(256))\n",
        "model.add(Dropout(0.2))\n",
        "model.add(Dense(num_words, activation=\"softmax\"))  # Adjust output layer to match num_words\n",
        "model.compile(loss=\"categorical_crossentropy\", optimizer=\"adam\")"
      ]
    },
    {
      "cell_type": "code",
      "execution_count": null,
      "id": "4868970d",
      "metadata": {
        "id": "4868970d"
      },
      "outputs": [],
      "source": [
        "filepath = \"weights.keras\"\n",
        "checkpoint = ModelCheckpoint(filepath, monitor=\"loss\", verbose=1, save_best_only=True, mode=\"min\")\n",
        "callbacks_list = [checkpoint]"
      ]
    },
    {
      "cell_type": "code",
      "execution_count": null,
      "id": "e59205e4",
      "metadata": {
        "colab": {
          "base_uri": "https://localhost:8080/"
        },
        "id": "e59205e4",
        "outputId": "7952d3dc-7c3c-4adf-9c9a-46eea0fc9d8e",
        "scrolled": true
      },
      "outputs": [
        {
          "output_type": "stream",
          "name": "stdout",
          "text": [
            "Epoch 1/5\n",
            "1056/1056 [==============================] - ETA: 0s - loss: 6.4960\n",
            "Epoch 1: loss improved from inf to 6.49599, saving model to weights.keras\n",
            "1056/1056 [==============================] - 22s 14ms/step - loss: 6.4960\n",
            "Epoch 2/5\n",
            "1054/1056 [============================>.] - ETA: 0s - loss: 6.1341\n",
            "Epoch 2: loss improved from 6.49599 to 6.13400, saving model to weights.keras\n",
            "1056/1056 [==============================] - 13s 12ms/step - loss: 6.1340\n",
            "Epoch 3/5\n",
            "1053/1056 [============================>.] - ETA: 0s - loss: 5.9592\n",
            "Epoch 3: loss improved from 6.13400 to 5.95888, saving model to weights.keras\n",
            "1056/1056 [==============================] - 13s 12ms/step - loss: 5.9589\n",
            "Epoch 4/5\n",
            "1052/1056 [============================>.] - ETA: 0s - loss: 5.8372\n",
            "Epoch 4: loss improved from 5.95888 to 5.83783, saving model to weights.keras\n",
            "1056/1056 [==============================] - 13s 12ms/step - loss: 5.8378\n",
            "Epoch 5/5\n",
            "1052/1056 [============================>.] - ETA: 0s - loss: 5.7346\n",
            "Epoch 5: loss improved from 5.83783 to 5.73462, saving model to weights.keras\n",
            "1056/1056 [==============================] - 13s 12ms/step - loss: 5.7346\n"
          ]
        },
        {
          "output_type": "execute_result",
          "data": {
            "text/plain": [
              "<keras.src.callbacks.History at 0x7e8db82a6110>"
            ]
          },
          "metadata": {},
          "execution_count": 12
        }
      ],
      "source": [
        "model.fit(X, y, epochs = 5, batch_size= 128, callbacks = callbacks_list)"
      ]
    },
    {
      "cell_type": "code",
      "execution_count": null,
      "id": "02013b53",
      "metadata": {
        "id": "02013b53"
      },
      "outputs": [],
      "source": [
        "def generate_seq(model, tokenizer, enter_text, n_pred):\n",
        "    in_text, result = enter_text, enter_text  #\n",
        "    # generate a fixed number of words\n",
        "    for _ in range(n_pred):\n",
        "        # encode the text as integer\n",
        "        encoded = tokenizer.texts_to_sequences([in_text.split()])\n",
        "        encoded = np.array(encoded)\n",
        "\n",
        "        # predict a word in the vocabulary\n",
        "        ## yhat = model.predict_classes(encoded)\n",
        "        predict_val = model.predict(encoded)\n",
        "        yhat = np.argmax(predict_val, axis=-1)\n",
        "        print(predict_val.shape)\n",
        "\n",
        "\n",
        "        # map predicted word index to word\n",
        "        out_word = \"\"\n",
        "        for word, index in tokenizer.word_index.items():\n",
        "            if index == yhat:\n",
        "                out_word = word\n",
        "                break\n",
        "        # append to input\n",
        "        in_text, result = out_word, result + \" \" + out_word\n",
        "\n",
        "    return result\n"
      ]
    },
    {
      "cell_type": "code",
      "execution_count": null,
      "id": "6c1a5f15",
      "metadata": {
        "colab": {
          "base_uri": "https://localhost:8080/"
        },
        "id": "6c1a5f15",
        "outputId": "858f1faf-a611-46a1-acbd-7847a9e07fb1",
        "scrolled": true
      },
      "outputs": [
        {
          "output_type": "stream",
          "name": "stdout",
          "text": [
            "1/1 [==============================] - 1s 1s/step\n",
            "(1, 9272)\n",
            "1/1 [==============================] - 1s 700ms/step\n",
            "(1, 9272)\n",
            "1/1 [==============================] - 0s 18ms/step\n",
            "(1, 9272)\n",
            "my fellow americans it is time to stand together and the people the\n"
          ]
        }
      ],
      "source": [
        "input_seed = \"my fellow americans it is time to stand together and\"\n",
        "print(generate_seq(model, tokenizer_obj, input_seed, 3))"
      ]
    }
  ],
  "metadata": {
    "colab": {
      "provenance": [],
      "gpuType": "T4"
    },
    "kernelspec": {
      "display_name": "Python 3",
      "name": "python3"
    },
    "language_info": {
      "codemirror_mode": {
        "name": "ipython",
        "version": 3
      },
      "file_extension": ".py",
      "mimetype": "text/x-python",
      "name": "python",
      "nbconvert_exporter": "python",
      "pygments_lexer": "ipython3",
      "version": "3.11.7"
    },
    "accelerator": "GPU"
  },
  "nbformat": 4,
  "nbformat_minor": 5
}