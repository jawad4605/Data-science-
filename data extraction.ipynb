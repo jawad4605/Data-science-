{
 "cells": [
  {
   "cell_type": "code",
   "execution_count": 31,
   "id": "5be251f8-003d-4489-babf-b1df71c8c765",
   "metadata": {},
   "outputs": [
    {
     "name": "stdout",
     "output_type": "stream",
     "text": [
      "Text extracted from Downloads/salaries.pdf and saved to output.csv\n"
     ]
    }
   ],
   "source": [
    "import PyPDF2\n",
    "import csv\n",
    "\n",
    "def extract_text_from_pdf(pdf_path):\n",
    "    # Open the PDF file in binary mode\n",
    "    with open(pdf_path, 'rb') as file:\n",
    "        reader = PyPDF2.PdfReader(file)\n",
    "        \n",
    "        text = []\n",
    "        \n",
    "        # Iterate through each page and extract text\n",
    "        for page_num in range(len(reader.pages)):\n",
    "            page = reader.pages[page_num]\n",
    "            text.append(page.extract_text())\n",
    "    \n",
    "    return text\n",
    "\n",
    "def save_text_to_csv(text_list, csv_path):\n",
    "    # Write the extracted text to a CSV file\n",
    "    with open(csv_path, 'w', newline='', encoding='utf-8') as csv_file:\n",
    "        writer = csv.writer(csv_file)\n",
    "        # Write each page's text as a new row in the CSV file\n",
    "        for page_num, page_text in enumerate(text_list):\n",
    "            writer.writerow([f\"Page {page_num + 1}\", page_text])\n",
    "\n",
    "# Example usage\n",
    "pdf_path = 'Downloads/salaries.pdf'\n",
    "csv_path = 'output.csv'\n",
    "extracted_text = extract_text_from_pdf(pdf_path)\n",
    "save_text_to_csv(extracted_text, csv_path)\n",
    "\n",
    "print(f\"Text extracted from {pdf_path} and saved to {csv_path}\")\n"
   ]
  },
  {
   "cell_type": "code",
   "execution_count": 20,
   "id": "574b55e2-6771-4a8c-b20c-91eaa5a0c6f2",
   "metadata": {},
   "outputs": [
    {
     "name": "stdout",
     "output_type": "stream",
     "text": [
      "Requirement already satisfied: requests in c:\\users\\pc\\anaconda3\\lib\\site-packages (2.31.0)\n",
      "Requirement already satisfied: charset-normalizer<4,>=2 in c:\\users\\pc\\anaconda3\\lib\\site-packages (from requests) (2.0.4)\n",
      "Requirement already satisfied: idna<4,>=2.5 in c:\\users\\pc\\anaconda3\\lib\\site-packages (from requests) (3.4)\n",
      "Requirement already satisfied: urllib3<3,>=1.21.1 in c:\\users\\pc\\anaconda3\\lib\\site-packages (from requests) (2.0.7)\n",
      "Requirement already satisfied: certifi>=2017.4.17 in c:\\users\\pc\\anaconda3\\lib\\site-packages (from requests) (2024.2.2)\n"
     ]
    }
   ],
   "source": [
    "!pip install requests"
   ]
  },
  {
   "cell_type": "code",
   "execution_count": 4,
   "id": "2f7c2b11-f9c4-47bb-bbbf-92703f3e25fb",
   "metadata": {},
   "outputs": [
    {
     "name": "stdin",
     "output_type": "stream",
     "text": [
      "Enter the name of the city:  multan\n"
     ]
    },
    {
     "name": "stdout",
     "output_type": "stream",
     "text": [
      "Weather in multan: haze\n",
      "Temperature: 35.94°C\n",
      "Humidity: 34%\n",
      "Wind Speed: 4.12 m/s\n"
     ]
    }
   ],
   "source": [
    "import requests\n",
    "\n",
    "def get_weather(city_name, api_key):\n",
    "    url = f\"http://api.openweathermap.org/data/2.5/weather?q={city_name}&appid={api_key}\"\n",
    "    response = requests.get(url)\n",
    "    if response.status_code == 200:\n",
    "        return response.json()\n",
    "    else:\n",
    "        return None\n",
    "\n",
    "def main():\n",
    "    api_key = '5a6a022b16530e0ba96ee5d4354de537'\n",
    "    city_name = input(\"Enter the name of the city: \")\n",
    "    weather_data = get_weather(city_name, api_key)\n",
    "    if weather_data:\n",
    "        # Extract weather details\n",
    "        weather_description = weather_data['weather'][0]['description']\n",
    "        temperature_kelvin = weather_data['main']['temp']\n",
    "        temperature_celsius = temperature_kelvin - 273.15  # Convert to Celsius\n",
    "        humidity = weather_data['main']['humidity']\n",
    "        wind_speed = weather_data['wind']['speed']\n",
    "        # Display weather details\n",
    "        print(f\"Weather in {city_name}: {weather_description}\")\n",
    "        print(f\"Temperature: {temperature_celsius:.2f}°C\")\n",
    "        print(f\"Humidity: {humidity}%\")\n",
    "        print(f\"Wind Speed: {wind_speed} m/s\")\n",
    "    else:\n",
    "        print(\"Failed to fetch weather data. Please check your city name or API key.\")\n",
    "\n",
    "if __name__ == \"__main__\":\n",
    "    main()\n"
   ]
  },
  {
   "cell_type": "code",
   "execution_count": null,
   "id": "1159ece1-586f-4ca5-b88e-05b6b47f3681",
   "metadata": {},
   "outputs": [],
   "source": [
    "5a6a022b16530e0ba96ee5d4354de537"
   ]
  },
  {
   "cell_type": "code",
   "execution_count": 7,
   "id": "facff478-8c92-4a38-9cc3-d1a7aff35816",
   "metadata": {},
   "outputs": [
    {
     "name": "stdin",
     "output_type": "stream",
     "text": [
      "Enter latitude of the location:  30.1575\n",
      "Enter longitude of the location:  71.5249\n"
     ]
    },
    {
     "name": "stdout",
     "output_type": "stream",
     "text": [
      "Failed to fetch weather data. Status code: 401\n",
      "Failed to fetch weather data for May, 2024.\n",
      "Failed to fetch weather data. Status code: 401\n",
      "Failed to fetch weather data for April, 2024.\n",
      "Failed to fetch weather data. Status code: 401\n",
      "Failed to fetch weather data for March, 2024.\n",
      "Failed to fetch weather data. Status code: 401\n",
      "Failed to fetch weather data for February, 2024.\n",
      "Failed to fetch weather data. Status code: 401\n",
      "Failed to fetch weather data for January, 2024.\n",
      "Failed to fetch weather data. Status code: 401\n",
      "Failed to fetch weather data for December, 2023.\n",
      "Failed to fetch weather data. Status code: 401\n",
      "Failed to fetch weather data for November, 2023.\n",
      "Failed to fetch weather data. Status code: 401\n",
      "Failed to fetch weather data for October, 2023.\n",
      "Failed to fetch weather data. Status code: 401\n",
      "Failed to fetch weather data for September, 2023.\n",
      "Failed to fetch weather data. Status code: 401\n",
      "Failed to fetch weather data for August, 2023.\n",
      "Failed to fetch weather data. Status code: 401\n",
      "Failed to fetch weather data for July, 2023.\n",
      "Failed to fetch weather data. Status code: 401\n",
      "Failed to fetch weather data for June, 2023.\n",
      "No weather data to save.\n",
      "Weather data saved to historical_weather.csv.\n"
     ]
    }
   ],
   "source": [
    "import requests\n",
    "import csv\n",
    "from datetime import datetime, timedelta\n",
    "\n",
    "def get_historical_weather(lat, lon, dt, api_key):\n",
    "    url = f\"https://api.openweathermap.org/data/2.5/onecall/timemachine?lat={lat}&lon={lon}&dt={dt}&appid={api_key}\"\n",
    "    response = requests.get(url)\n",
    "    if response.status_code == 200:\n",
    "        return response.json()\n",
    "    else:\n",
    "        print(f\"Failed to fetch weather data. Status code: {response.status_code}\")\n",
    "        return None\n",
    "\n",
    "def save_weather_to_csv(weather_data, csv_filename):\n",
    "    if not weather_data:\n",
    "        print(\"No weather data to save.\")\n",
    "        return\n",
    "    \n",
    "    with open(csv_filename, 'w', newline='', encoding='utf-8') as csv_file:\n",
    "        writer = csv.DictWriter(csv_file, fieldnames=weather_data[0].keys())\n",
    "        writer.writeheader()\n",
    "        writer.writerows(weather_data)\n",
    "\n",
    "def main():\n",
    "    api_key = 'your_api_key_here'\n",
    "    lat = input(\"Enter latitude of the location: \")\n",
    "    lon = input(\"Enter longitude of the location: \")\n",
    "    current_date = datetime.today()\n",
    "    weather_data_list = []\n",
    "    for i in range(1, 13):\n",
    "        # Calculate date for the previous month\n",
    "        date = current_date - timedelta(days=i*30)\n",
    "        # Convert date to UNIX timestamp\n",
    "        timestamp = int(date.timestamp())\n",
    "        # Fetch historical weather data for the previous month\n",
    "        weather_data = get_historical_weather(lat, lon, timestamp, api_key)\n",
    "        if weather_data:\n",
    "            # Append weather data to the list\n",
    "            weather_data_list.extend(weather_data['hourly'])\n",
    "        else:\n",
    "            print(f\"Failed to fetch weather data for {date.strftime('%B, %Y')}.\")\n",
    "            # You might want to handle this error case appropriately\n",
    "\n",
    "    # Save weather data to CSV file\n",
    "    csv_filename = 'historical_weather.csv'\n",
    "    save_weather_to_csv(weather_data_list, csv_filename)\n",
    "    print(f\"Weather data saved to {csv_filename}.\")\n",
    "\n",
    "if __name__ == \"__main__\":\n",
    "    main()\n"
   ]
  },
  {
   "cell_type": "code",
   "execution_count": null,
   "id": "49808498-8f81-4508-a753-8a6552fc55f8",
   "metadata": {},
   "outputs": [],
   "source": [
    "30.1575\n",
    "Enter longitude of the location:  71.5249"
   ]
  }
 ],
 "metadata": {
  "kernelspec": {
   "display_name": "Python 3 (ipykernel)",
   "language": "python",
   "name": "python3"
  },
  "language_info": {
   "codemirror_mode": {
    "name": "ipython",
    "version": 3
   },
   "file_extension": ".py",
   "mimetype": "text/x-python",
   "name": "python",
   "nbconvert_exporter": "python",
   "pygments_lexer": "ipython3",
   "version": "3.11.7"
  }
 },
 "nbformat": 4,
 "nbformat_minor": 5
}
